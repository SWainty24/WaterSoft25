{
 "cells": [
  {
   "cell_type": "markdown",
   "id": "9ccae883-1904-48a6-81b3-d0228caeab1f",
   "metadata": {},
   "source": [
    "\n",
    "## Multivariate time series prediction using Transformer\n",
    "\n",
    "\n",
    "### In this document we explain how a Transformer encoder network is supposed to process information. \n",
    "<i> Note: We use PatchTST which is a popular time series forecasting model that uses a Transformer Encoder to make predictions</i>\n",
    "\n",
    "The multi-head attention functionality.\n",
    "\n",
    "Let's suppose the input to the model is a sequence given by\n",
    "$$[x_1, x_2, x_3, ..., x_{12}]$$ (these are tokens input to the model)\n",
    "\n",
    "We first reshape it into a following matrix (called embeddings) of some patch size let's say 4.\n",
    "$$ Input (I) = \\begin{bmatrix}\n",
    "x_1 & x_2 & x_3 & x_4 \\\\\n",
    "x_5 & x_6 & x_7 & x_8 \\\\\n",
    "x_9 & x_{10} & x_{11} & x_{12} \\\\  \n",
    "\\end{bmatrix}^T = \n",
    "\\begin{bmatrix}\n",
    "x_1 & x_5 & x_9  \\\\\n",
    "x_2 & x_6 & x_{10} \\\\\n",
    "x_3 & x_7 & x_{11} \\\\\n",
    "x_4 & x_8 & x_{12}\n",
    "\\end{bmatrix}  (4 \\times 3)\n",
    "$$\n",
    "\n",
    "We use a fc layer of shape let's name it $( 3 \\times 10)$, (this is called enriching embeddings with the positional encodings to retain the sequence order information), the output of this process is a $(4 \\times 10)$ matrix. Let's denote the output matrix by say $x_d$\n",
    "\n",
    "Now the output of the FC layer is passed through the multi-head attention block.\n",
    "The number of heads can be any number you can define. I will explain what happens in one of those heads. \n",
    "\n",
    "Each head has three matrices, let's name them $W_Q, W_K, W_V.$\n",
    "We compute the following.\n",
    "$$ Q_h = x_d \\times W_Q $$\n",
    "$$ K_h = x_d \\times W_K $$\n",
    "$$ V_h = x_d \\times W_V $$\n",
    "\n",
    "Note that the no. of columns of Q, K, V is equal to some value let's say $d_k$ (user-defined)\n",
    "\n",
    "The attention value for a head is calculated as \n",
    "$$\n",
    "O_h = softmax\\left( \\frac{Q_h K_h^T}{\\sqrt{d_k}} \\right) V_h\n",
    "$$\n",
    "\n",
    "Let's suppose the output $O_h$ has dimensions $(4 \\times 10)$\n",
    "\n",
    "In general there are multiple heads, so we have output of attention heads as $O_1, O_2, ..., O_h$. \\\n",
    "The attention heads are concatenated to get multi head attention\n",
    "$$O_{multi-head} = Concat(O_1, O_2, O_3, ... , O_h)$$\n",
    "\n",
    "A weight matrix $W^o$ (Output Projection Matrix) is used to bring back the $O_{multi-head}$ to the shape of $x_d$.\n",
    "And we compute\n",
    "\n",
    "$O' = O_{multi-head} \\times W^o$ \\\n",
    "and we calculate residuals as \\\n",
    "$O_{residual} = O' + x_d$\n",
    "\n",
    "This $O_{residual}$ is the input to the feedforward network to get the required output.\n",
    "\n"
   ]
  },
  {
   "cell_type": "code",
   "execution_count": null,
   "id": "7c3f8bb5-7463-4aaf-ba28-9a466bad685a",
   "metadata": {},
   "outputs": [],
   "source": []
  },
  {
   "cell_type": "code",
   "execution_count": 1,
   "id": "4117e9d0-7925-4788-bbe1-28c60c80bb56",
   "metadata": {},
   "outputs": [],
   "source": [
    "import torch\n",
    "import numpy as np\n",
    "import math\n",
    "\n",
    "import pandas as pd\n",
    "from sklearn.preprocessing import MinMaxScaler\n"
   ]
  },
  {
   "cell_type": "code",
   "execution_count": 2,
   "id": "8af4f85b-3822-4288-9566-0f0ac0cfa053",
   "metadata": {},
   "outputs": [],
   "source": [
    "path = 'final_data.csv'"
   ]
  },
  {
   "cell_type": "code",
   "execution_count": 3,
   "id": "fc9eb646-4308-449c-84c0-00cd1de182c2",
   "metadata": {},
   "outputs": [
    {
     "name": "stdout",
     "output_type": "stream",
     "text": [
      "Using device: cuda\n"
     ]
    }
   ],
   "source": [
    "device = torch.device('cuda' if torch.cuda.is_available() else 'cpu')\n",
    "print(f'Using device: {device}')\n",
    "\n",
    "# Implement determinism. Set a fixed value for random seed so that when the parameters are initialized, they are initialized same across all experiments.\n",
    "torch.manual_seed(42)\n",
    "\n",
    "# If you are using CUDA, also set the seed for it\n",
    "if torch.cuda.is_available():\n",
    "    torch.cuda.manual_seed(42)\n",
    "    torch.cuda.manual_seed_all(42)\n",
    "\n",
    "# Set the seed for NumPy\n",
    "np.random.seed(42)"
   ]
  },
  {
   "cell_type": "markdown",
   "id": "0600e784-ec1c-4ab8-ab6b-9b765b4dee83",
   "metadata": {},
   "source": [
    "Here we define **RiverData** a custom Dataset class to load the dataset we have. It extends the Pytorch Dataset class.  \n",
    "- We need to define \\_\\_init__() function which can be used for loading data from the file and optionally for data preprocessing.\n",
    "- Thereafter we define \\_\\_len__() function which gives the length of dataset.\n",
    "- Then we define \\_\\_getitem__() function which returns an instance of (feature, label) tuple which can be used for model training.\n",
    "  For our time series data, feature means the past values to be used for training and label means the future values to be predicted."
   ]
  },
  {
   "cell_type": "code",
   "execution_count": 4,
   "id": "742b694d-9966-4fd3-bca7-51f398a8775f",
   "metadata": {},
   "outputs": [],
   "source": [
    "class RiverData(torch.utils.data.Dataset):\n",
    "    \n",
    "    def __init__(self, df, target, datecol, seq_len, pred_len):\n",
    "        self.df = df\n",
    "        self.datecol = datecol\n",
    "        self.target = target\n",
    "        self.seq_len = seq_len\n",
    "        self.pred_len = pred_len\n",
    "        self.setIndex()\n",
    "        \n",
    "\n",
    "    def setIndex(self):\n",
    "        self.df.set_index(self.datecol, inplace=True)\n",
    "    \n",
    "\n",
    "    def __len__(self):\n",
    "        return len(self.df) - self.seq_len - self.pred_len\n",
    "\n",
    "\n",
    "    def __getitem__(self, idx):\n",
    "        if len(self.df) <= (idx + self.seq_len+self.pred_len):\n",
    "            raise IndexError(f\"Index {idx} is out of bounds for dataset of size {len(self.df)}\")\n",
    "        df_piece = self.df[idx:idx+self.seq_len].values\n",
    "        feature = torch.tensor(df_piece, dtype=torch.float32)\n",
    "        label_piece = self.df[self.target][idx + self.seq_len:  idx+self.seq_len+self.pred_len].values\n",
    "        label = torch.tensor(label_piece, dtype=torch.float32)\n",
    "        return (feature, label) "
   ]
  },
  {
   "cell_type": "markdown",
   "id": "60c24959-e72f-435d-8a14-69a648fa5ab1",
   "metadata": {},
   "source": [
    "### Normalize the data"
   ]
  },
  {
   "cell_type": "code",
   "execution_count": 5,
   "id": "46d897d9-946e-4bbe-90a6-cc8d8a223c3f",
   "metadata": {},
   "outputs": [],
   "source": [
    "df = pd.read_csv(path)\n",
    "raw_df = df.drop('DATE', axis=1, inplace=False)\n",
    "scaler = MinMaxScaler()\n",
    "\n",
    "# Apply the transformations\n",
    "df_scaled = scaler.fit_transform(raw_df)\n",
    "\n",
    "df_scaled = pd.DataFrame(df_scaled, columns=raw_df.columns)\n",
    "df_scaled['DATE'] = df['DATE']\n",
    "df = df_scaled"
   ]
  },
  {
   "cell_type": "markdown",
   "id": "3a4781c6-88ed-4b28-aa0e-f669bf7c75f5",
   "metadata": {},
   "source": [
    "Some advanced Python syntax has been used here. \\\n",
    "*common_args : it's used to pass arguments to a function, where common_args represents a python list \\\n",
    "**common_args: it's used to pass arguments to a function, where common_args represents a python dictionary"
   ]
  },
  {
   "cell_type": "code",
   "execution_count": 6,
   "id": "9e63a535-a817-4429-be17-f3e3a02e4f73",
   "metadata": {},
   "outputs": [],
   "source": [
    "\n",
    "train_size = int(0.7 * len(df))\n",
    "test_size = int(0.2 * len(df))\n",
    "val_size = len(df) - train_size - test_size\n",
    "\n",
    "seq_len = 13\n",
    "pred_len = 1\n",
    "num_features = 7\n",
    "num_layers = 1\n",
    "\n",
    "\n",
    "common_args = ['gauge_height', 'DATE', seq_len, pred_len]\n",
    "train_dataset = RiverData(df[:train_size], *common_args)\n",
    "val_dataset = RiverData(df[train_size: train_size+val_size], *common_args)\n",
    "test_dataset = RiverData(df[train_size+val_size : len(df)], *common_args)\n"
   ]
  },
  {
   "cell_type": "code",
   "execution_count": 7,
   "id": "501879b1-dd1c-4ff0-afb3-ff25a345df05",
   "metadata": {},
   "outputs": [],
   "source": [
    "# Important parameters\n",
    "\n",
    "BATCH_SIZE = 512 # keep as big as can be handled by GPU and memory\n",
    "SHUFFLE = False # we don't shuffle the time series data\n",
    "DATA_LOAD_WORKERS = 1 # it depends on amount of data you need to load\n",
    "learning_rate = 1e-3\n"
   ]
  },
  {
   "cell_type": "code",
   "execution_count": 8,
   "id": "ae359aec-9435-4229-8587-5f120b0370b3",
   "metadata": {},
   "outputs": [],
   "source": [
    "from torch.utils.data import DataLoader\n",
    "\n",
    "common_args = {'batch_size': BATCH_SIZE, 'shuffle': SHUFFLE}\n",
    "train_loader = DataLoader(train_dataset, **common_args)\n",
    "val_loader = DataLoader(val_dataset, **common_args)\n",
    "test_loader = DataLoader(test_dataset, **common_args)"
   ]
  },
  {
   "cell_type": "markdown",
   "id": "bc7ac35c-8ecc-4ab7-a97c-0cb4d59bc624",
   "metadata": {},
   "source": [
    "### Here we define our PyTorch model.\n",
    "\n",
    "BasicTransformerNetwork is the model class, it extends the Module class provided by Pytorch. \\\n",
    "- We define \\_\\_init__() function. It sets up layers and defines the model parameters.\n",
    "- Also, we define forward() function which defines how the forwared pass computation occurs\n",
    "- We also implement PositionalEncoding class which is an important part of transformer"
   ]
  },
  {
   "cell_type": "code",
   "execution_count": 9,
   "id": "01cd8d0d-2058-4dfe-9046-78cde5fd2f58",
   "metadata": {},
   "outputs": [],
   "source": [
    "# The transformer implementation in pytorch doesn't implement the \n",
    "# positional encoding which is an essential part of the transforemer model\n",
    "\n",
    "# Provide more description of positional encoding\n",
    "class PositionalEncoding(torch.nn.Module):\n",
    "    def __init__(self, d_model, pos_enc_dropout, max_len=5000):\n",
    "        super().__init__();\n",
    "        self.dropout = torch.nn.Dropout(p=pos_enc_dropout)\n",
    "\n",
    "        Xp = torch.zeros(max_len, d_model) # max_len x d_model\n",
    "        position = torch.arange(0, max_len).unsqueeze(1) # max_len x 1\n",
    "        div_term = torch.exp(torch.arange(0, d_model, 2) * (-math.log(100000.0) / d_model)) #length: d_model/2\n",
    "\n",
    "        #Applying sine to even indices in the array; 2i\n",
    "        Xp[:, 0::2] = torch.sin(position.float() * div_term)\n",
    "\n",
    "        #Applying cosine to odd indices in the array; 2i + 1\n",
    "        Xp[:, 1::2] = torch.cos(position.float() * div_term)\n",
    "\n",
    "        Xp = Xp.unsqueeze(1)\n",
    "        self.register_buffer('Xp', Xp)\n",
    "\n",
    "    def forward(self, x):\n",
    "        x  = x + self.Xp[:x.size(0)]\n",
    "        return self.dropout(x)\n",
    "\n",
    "\n",
    "class BasicTransformerNetwork(torch.nn.Module):\n",
    "    \n",
    "    def __init__(self, seq_len, pred_len, enc_layer_dropout, pos_enc_dropout):\n",
    "        # call the constructor of the base class\n",
    "        super().__init__()\n",
    "        self.model_type = 'Transformer'\n",
    "        self.seq_len = seq_len\n",
    "        self.pred_len = pred_len\n",
    "        self.num_features = num_features\n",
    "\n",
    "        # I don't think the embedding size should be this big. We will see.\n",
    "        self.embedding_size = 128 #The features are converted to 512 embeddings\n",
    "        self.num_layers = num_layers\n",
    "        self.pos_encoder = PositionalEncoding(self.embedding_size, pos_enc_dropout, 10000)\n",
    "        \n",
    "        \n",
    "        self.encLayer = torch.nn.TransformerEncoderLayer(d_model=self.embedding_size, nhead=8, \n",
    "                                                 dim_feedforward=256, dropout=enc_layer_dropout, activation=\"relu\", \n",
    "                                                 layer_norm_eps=1e-05, batch_first=True, norm_first=False, bias=True, \n",
    "                                                 device=None, dtype=None)\n",
    "        \n",
    "        self.transformerEnc = torch.nn.TransformerEncoder(self.encLayer, num_layers=self.num_layers)\n",
    "\n",
    "        self.input_fc = torch.nn.Linear(self.num_features, self.embedding_size)\n",
    "        self.relu = torch.nn.ReLU()\n",
    "        \n",
    "        self.output_fc1 = torch.nn.Linear(self.embedding_size, self.pred_len)\n",
    "        self.output_fc2 = torch.nn.Linear(self.seq_len, 1)\n",
    "\n",
    "        \n",
    "\n",
    "    \n",
    "    def forward(self, x):\n",
    "        x = self.input_fc(x) * np.sqrt(self.embedding_size)\n",
    "        x = self.pos_encoder(x)\n",
    "        out = self.transformerEnc(x)\n",
    "        out = self.output_fc1(out) # dimension 512 x seq_len x pred_len\n",
    "        out = out.transpose(1,2) # dimension 512 x pred_len x seq_len\n",
    "        out = self.output_fc2(out) # dimension 512 x pred_len x 1\n",
    "        out = out.squeeze(-1) # dimension 512 x pred_len\n",
    "        return out\n",
    "# Note that the gradients are stored inside the FC layer objects\n",
    "# For each training example we need to get rid of these gradients"
   ]
  },
  {
   "cell_type": "markdown",
   "id": "f579dc18-584e-414b-ae8e-37f62e4b42f3",
   "metadata": {},
   "source": []
  },
  {
   "cell_type": "code",
   "execution_count": 10,
   "id": "b600c877-3409-48f9-80e5-3fdde7731817",
   "metadata": {},
   "outputs": [
    {
     "name": "stdout",
     "output_type": "stream",
     "text": [
      "2.2.1+cu121\n"
     ]
    }
   ],
   "source": [
    "print(torch.__version__)"
   ]
  },
  {
   "cell_type": "code",
   "execution_count": 11,
   "id": "5277794b-fe37-4595-8554-d26db5710e44",
   "metadata": {},
   "outputs": [],
   "source": [
    "learning_rate = 0.00005950\n",
    "pos_enc_dropout = 0.11007\n",
    "enc_layer_dropout = 0.194726\n",
    "weight_decay = 0.000165\n",
    "\n",
    "model = BasicTransformerNetwork(seq_len, pred_len, pos_enc_dropout, enc_layer_dropout)\n",
    "model = model.to(device)\n",
    "loss = torch.nn.MSELoss()\n",
    "optimizer = torch.optim.Adam(model.parameters(), lr = learning_rate)"
   ]
  },
  {
   "cell_type": "code",
   "execution_count": 12,
   "id": "1afde643-9953-4129-8415-7b4836c31300",
   "metadata": {},
   "outputs": [
    {
     "name": "stdout",
     "output_type": "stream",
     "text": [
      "torch.Size([384, 128])\n",
      "torch.Size([384])\n",
      "torch.Size([128, 128])\n",
      "torch.Size([128])\n",
      "torch.Size([256, 128])\n",
      "torch.Size([256])\n",
      "torch.Size([128, 256])\n",
      "torch.Size([128])\n",
      "torch.Size([128])\n",
      "torch.Size([128])\n",
      "torch.Size([128])\n",
      "torch.Size([128])\n",
      "torch.Size([384, 128])\n",
      "torch.Size([384])\n",
      "torch.Size([128, 128])\n",
      "torch.Size([128])\n",
      "torch.Size([256, 128])\n",
      "torch.Size([256])\n",
      "torch.Size([128, 256])\n",
      "torch.Size([128])\n",
      "torch.Size([128])\n",
      "torch.Size([128])\n",
      "torch.Size([128])\n",
      "torch.Size([128])\n",
      "torch.Size([128, 7])\n",
      "torch.Size([128])\n",
      "torch.Size([1, 128])\n",
      "torch.Size([1])\n",
      "torch.Size([1, 13])\n",
      "torch.Size([1])\n"
     ]
    }
   ],
   "source": [
    "for gen in model.parameters():\n",
    "    print(gen.shape)"
   ]
  },
  {
   "cell_type": "code",
   "execution_count": 13,
   "id": "4b3cc7a8-9844-4eae-a601-4787513eb1cf",
   "metadata": {},
   "outputs": [
    {
     "name": "stdout",
     "output_type": "stream",
     "text": [
      "features shape:  torch.Size([512, 13, 7])\n",
      "labels shape:  torch.Size([512, 1])\n"
     ]
    }
   ],
   "source": [
    "for i, (f,l) in enumerate(train_loader):\n",
    "    print('features shape: ', f.shape)\n",
    "    print('labels shape: ', l.shape)\n",
    "    break"
   ]
  },
  {
   "cell_type": "code",
   "execution_count": 14,
   "id": "22683e91-642a-494b-abc5-069dc6fa9eb6",
   "metadata": {},
   "outputs": [],
   "source": [
    "# define metrics\n",
    "import numpy as np\n",
    "import matplotlib.pyplot as plt\n",
    "epsilon = np.finfo(float).eps\n",
    "\n",
    "def wape_function(y, y_pred):\n",
    "    \"\"\"Weighted Average Percentage Error metric in the interval [0; 100]\"\"\"\n",
    "    y = np.array(y)\n",
    "    y_pred = np.array(y_pred)\n",
    "    nominator = np.sum(np.abs(np.subtract(y, y_pred)))\n",
    "    denominator = np.add(np.sum(np.abs(y)), epsilon)\n",
    "    wape = np.divide(nominator, denominator) * 100.0\n",
    "    return wape\n",
    "\n",
    "def nse_function(y, y_pred):\n",
    "    y = np.array(y)\n",
    "    y_pred = np.array(y_pred)\n",
    "    return (1-(np.sum((y_pred-y)**2)/np.sum((y-np.mean(y))**2)))\n",
    "\n",
    "\n",
    "def evaluate_model(model, data_loader, plot=False):\n",
    "    # following line prepares the model for evaluation mode. It disables dropout and batch normalization if they have \n",
    "    # are part of the model. For our simple model, it's not necessary. Still, we're going to use it.\n",
    "\n",
    "    model.eval()\n",
    "    all_outputs = torch.empty(0, pred_len)\n",
    "    all_labels = torch.empty(0, pred_len)\n",
    "    for inputs, labels in data_loader:\n",
    "        inputs = inputs.to(device)\n",
    "        with torch.no_grad():\n",
    "            outputs = model(inputs).detach().cpu()\n",
    "        all_outputs = torch.vstack((all_outputs, outputs))\n",
    "        all_labels = torch.vstack((all_labels, labels))    \n",
    "   \n",
    "        avg_val_loss = loss(all_outputs, all_labels)\n",
    "        nse = nse_function(all_labels.numpy(), all_outputs.numpy())\n",
    "        wape = wape_function(all_labels.numpy(), all_outputs.numpy())\n",
    "        \n",
    "    print(f'NSE : {nse}', end=' ')\n",
    "    print(f'WAPE : {wape}', end=' ')\n",
    "    print(f'Validation Loss: {avg_val_loss}')\n",
    "    \n",
    "    model.train()\n",
    "\n",
    "    if plot:\n",
    "        plt.plot(np.array(all_labels.cpu()[:100]), color='green', label='observations')\n",
    "        plt.plot(np.array(all_outputs.cpu()[:100]), color='red', linestyle='-', label='predictions')\n",
    "        metrics_text = f\"NSE: {nse:.3f}\\nWAPE: {wape:.3f}\" \n",
    "        plt.text(0.28, 0.97, metrics_text, transform=plt.gca().transAxes, \n",
    "        fontsize=12, verticalalignment='top', bbox=dict(boxstyle='round', facecolor='wheat', alpha=0.5))\n",
    "        plt.legend()\n",
    "        plt.show()\n",
    "    \n",
    "    return avg_val_loss\n"
   ]
  },
  {
   "cell_type": "code",
   "execution_count": 15,
   "id": "9beaf3a1-2c40-4fc6-b0f7-c352b5763231",
   "metadata": {},
   "outputs": [
    {
     "name": "stdout",
     "output_type": "stream",
     "text": [
      "Epoch 1: Traning Loss: 0.028077105859171617 NSE : -0.03542816638946533 WAPE : 58.16279511185392 Validation Loss: 0.017677366733551025\n",
      "Epoch 2: Traning Loss: 0.019003703611132305 NSE : 0.07465261220932007 WAPE : 53.56514329401209 Validation Loss: 0.015798011794686317\n",
      "Epoch 3: Traning Loss: 0.016807632812719586 NSE : 0.14353930950164795 WAPE : 51.41652105197546 Validation Loss: 0.014621944166719913\n",
      "Epoch 4: Traning Loss: 0.01517272347981479 NSE : 0.2397506833076477 WAPE : 49.08937114878194 Validation Loss: 0.012979371473193169\n",
      "Epoch 5: Traning Loss: 0.012950887771200407 NSE : 0.37464118003845215 WAPE : 45.617534826033584 Validation Loss: 0.010676451958715916\n",
      "Epoch 6: Traning Loss: 0.010469874724046077 NSE : 0.5388953387737274 WAPE : 39.22976871386484 Validation Loss: 0.007872219197452068\n",
      "Epoch 7: Traning Loss: 0.008037797955389555 NSE : 0.6831125319004059 WAPE : 31.932764749342006 Validation Loss: 0.005410067271441221\n",
      "Epoch 8: Traning Loss: 0.0062155663957677515 NSE : 0.7800949215888977 WAPE : 25.837183230821996 Validation Loss: 0.0037543338257819414\n",
      "Epoch 9: Traning Loss: 0.005113782013085704 NSE : 0.8228980004787445 WAPE : 22.823656823324832 Validation Loss: 0.0030235773883759975\n",
      "Epoch 10: Traning Loss: 0.004440266237154528 NSE : 0.8490167707204819 WAPE : 20.719698410317196 Validation Loss: 0.002577664330601692\n",
      "Epoch 11: Traning Loss: 0.0039268738074880565 NSE : 0.8562145084142685 WAPE : 20.127837197492962 Validation Loss: 0.0024547805078327656\n",
      "Epoch 12: Traning Loss: 0.0035674470177790157 NSE : 0.8653454035520554 WAPE : 19.33159379241226 Validation Loss: 0.002298893639817834\n",
      "Epoch 13: Traning Loss: 0.0033247154808797056 NSE : 0.8781587854027748 WAPE : 18.29281696990442 Validation Loss: 0.002080136677250266\n",
      "Epoch 14: Traning Loss: 0.0030475853585406457 NSE : 0.882910467684269 WAPE : 17.81846985018766 Validation Loss: 0.001999013591557741\n",
      "Epoch 15: Traning Loss: 0.0028234784087156736 NSE : 0.8898188695311546 WAPE : 17.168850270769372 Validation Loss: 0.001881069503724575\n",
      "Epoch 16: Traning Loss: 0.0026876932378801597 NSE : 0.8910620287060738 WAPE : 17.11236295139674 Validation Loss: 0.0018598457099869847\n",
      "Epoch 17: Traning Loss: 0.0025082889375239044 NSE : 0.8992186784744263 WAPE : 16.376729240486448 Validation Loss: 0.001720591215416789\n",
      "Epoch 18: Traning Loss: 0.0023642385518532908 NSE : 0.904801070690155 WAPE : 15.969744322083498 Validation Loss: 0.0016252858331426978\n",
      "Epoch 19: Traning Loss: 0.0022614726526095402 NSE : 0.9109751954674721 WAPE : 15.367299852871058 Validation Loss: 0.0015198779292404652\n",
      "Epoch 20: Traning Loss: 0.00213029867494337 NSE : 0.9142860099673271 WAPE : 15.140232494015182 Validation Loss: 0.0014633538667112589\n",
      "Epoch 21: Traning Loss: 0.002028996222073373 NSE : 0.915016770362854 WAPE : 15.085811864410362 Validation Loss: 0.0014508779859170318\n",
      "Epoch 22: Traning Loss: 0.00193934330479171 NSE : 0.9186161234974861 WAPE : 14.712238430587043 Validation Loss: 0.0013894280418753624\n",
      "Epoch 23: Traning Loss: 0.0018432572561429652 NSE : 0.9197575077414513 WAPE : 14.57918234621715 Validation Loss: 0.0013699415139853954\n",
      "Epoch 24: Traning Loss: 0.0017724911804041508 NSE : 0.9221485629677773 WAPE : 14.406254996150983 Validation Loss: 0.001329120248556137\n",
      "Epoch 25: Traning Loss: 0.0017129815463390353 NSE : 0.923940435051918 WAPE : 14.224277349678802 Validation Loss: 0.0012985285138711333\n",
      "Epoch 26: Traning Loss: 0.0016275193079239997 NSE : 0.9264068081974983 WAPE : 13.918935491459267 Validation Loss: 0.0012564214412122965\n",
      "Epoch 27: Traning Loss: 0.0015753494251488712 NSE : 0.92695252597332 WAPE : 13.925259914300383 Validation Loss: 0.001247104606591165\n",
      "Epoch 28: Traning Loss: 0.0015086983977627899 NSE : 0.9289253801107407 WAPE : 13.73134762963229 Validation Loss: 0.001213422860018909\n",
      "Epoch 29: Traning Loss: 0.0014738172148224345 NSE : 0.9306811839342117 WAPE : 13.536181905323335 Validation Loss: 0.0011834470788016915\n",
      "Epoch 30: Traning Loss: 0.0014138593047982565 NSE : 0.9320192784070969 WAPE : 13.389964154487503 Validation Loss: 0.001160602318122983\n",
      "Epoch 31: Traning Loss: 0.0013849741801723536 NSE : 0.931657962501049 WAPE : 13.448423522882461 Validation Loss: 0.001166770700365305\n",
      "Epoch 32: Traning Loss: 0.0013240647583793337 NSE : 0.9329880252480507 WAPE : 13.3340600862208 Validation Loss: 0.0011440631933510303\n",
      "Epoch 33: Traning Loss: 0.0013113930845942803 NSE : 0.9338642507791519 WAPE : 13.255208938593915 Validation Loss: 0.001129103940911591\n",
      "Epoch 34: Traning Loss: 0.0012575203721555716 NSE : 0.9354319348931313 WAPE : 13.084393397720733 Validation Loss: 0.0011023395927622914\n",
      "Epoch 35: Traning Loss: 0.00121445331422891 NSE : 0.9362208917737007 WAPE : 13.003443646586277 Validation Loss: 0.0010888701071962714\n",
      "Epoch 36: Traning Loss: 0.0011863416522625494 NSE : 0.9361796230077744 WAPE : 13.046942073877183 Validation Loss: 0.0010895747691392899\n",
      "Epoch 37: Traning Loss: 0.0011603531442750433 NSE : 0.9379831254482269 WAPE : 12.861054444047687 Validation Loss: 0.0010587844299152493\n",
      "Epoch 38: Traning Loss: 0.001131364522734657 NSE : 0.9360264465212822 WAPE : 13.133914718035728 Validation Loss: 0.0010921896900981665\n",
      "Epoch 39: Traning Loss: 0.0011043706070424913 NSE : 0.9375397972762585 WAPE : 12.971229477484483 Validation Loss: 0.0010663532884791493\n",
      "Epoch 40: Traning Loss: 0.0010909830017055522 NSE : 0.9381862841546535 WAPE : 12.934803795208344 Validation Loss: 0.0010553158354014158\n",
      "Epoch 41: Traning Loss: 0.0010687898603524437 NSE : 0.9381603039801121 WAPE : 12.953901417269373 Validation Loss: 0.0010557593777775764\n",
      "Epoch 42: Traning Loss: 0.0010339363425973622 NSE : 0.9369662329554558 WAPE : 13.156076059113579 Validation Loss: 0.0010761453304439783\n",
      "Epoch 43: Traning Loss: 0.0010239496477140908 NSE : 0.9393313489854336 WAPE : 12.901720251816574 Validation Loss: 0.0010357667924836278\n",
      "Epoch 44: Traning Loss: 0.0010049064595814851 NSE : 0.9376597441732883 WAPE : 13.103390876667351 Validation Loss: 0.0010643054265528917\n",
      "Epoch 45: Traning Loss: 0.0009764575504793592 NSE : 0.9402302466332912 WAPE : 12.814356939464433 Validation Loss: 0.0010204203426837921\n",
      "Epoch 46: Traning Loss: 0.0009643922027036179 NSE : 0.9351472109556198 WAPE : 13.398019622592075 Validation Loss: 0.001107200630940497\n",
      "Epoch 47: Traning Loss: 0.000943160055354143 NSE : 0.9383469298481941 WAPE : 13.065463047674989 Validation Loss: 0.001052573206834495\n",
      "Epoch 48: Traning Loss: 0.0009267250063231092 NSE : 0.9390821158885956 WAPE : 13.006840809159886 Validation Loss: 0.0010400217724964023\n",
      "Epoch 49: Traning Loss: 0.0009133637940238093 NSE : 0.9354472607374191 WAPE : 13.347872132693544 Validation Loss: 0.0011020778911188245\n",
      "Epoch 50: Traning Loss: 0.0008944643409934538 NSE : 0.938554547727108 WAPE : 13.100551654302622 Validation Loss: 0.0010490287095308304\n",
      "Early stopping!\n"
     ]
    }
   ],
   "source": [
    "num_epochs = 200\n",
    "best_val_loss = float('inf')\n",
    "patience = 5\n",
    "\n",
    "for epoch in range(num_epochs):\n",
    "    epoch_loss = []\n",
    "    for batch_idx, (inputs, labels) in enumerate(train_loader):\n",
    "        inputs = inputs.to(device)\n",
    "        labels = labels.to(device)\n",
    "        outputs = model(inputs)\n",
    "        loss_val = loss(outputs, labels)\n",
    "\n",
    "        # calculate gradients for back propagation\n",
    "        loss_val.backward()\n",
    "\n",
    "        # update the weights based on the gradients\n",
    "        optimizer.step()\n",
    "\n",
    "        # reset the gradients, avoid gradient accumulation\n",
    "        optimizer.zero_grad()\n",
    "        epoch_loss.append(loss_val.item())\n",
    "\n",
    "    avg_train_loss = sum(epoch_loss)/len(epoch_loss)\n",
    "    print(f'Epoch {epoch+1}: Traning Loss: {avg_train_loss}', end=' ')\n",
    "    avg_val_loss = evaluate_model(model, val_loader)\n",
    "\n",
    "    # Check for improvement\n",
    "    if avg_val_loss < best_val_loss:\n",
    "        best_val_loss = avg_val_loss\n",
    "        epochs_no_improve = 0\n",
    "        # Save the best model\n",
    "        torch.save(model.state_dict(), 'best_model.pth')\n",
    "    else:\n",
    "        epochs_no_improve += 1\n",
    "        if epochs_no_improve == patience:\n",
    "            print('Early stopping!')\n",
    "            # Load the best model before stopping\n",
    "            model.load_state_dict(torch.load('best_model.pth'))\n",
    "            break"
   ]
  },
  {
   "cell_type": "code",
   "execution_count": 16,
   "id": "f7216e93-a35d-4aa5-83db-2e43ea380f6e",
   "metadata": {},
   "outputs": [
    {
     "name": "stdout",
     "output_type": "stream",
     "text": [
      "NSE : 0.9110975116491318 WAPE : 13.922999532634064 Validation Loss: 0.0009707555873319507\n"
     ]
    },
    {
     "data": {
      "image/png": "[encoded data removed]",
      "text/plain": [
       "<Figure size 640x480 with 1 Axes>"
      ]
     },
     "metadata": {},
     "output_type": "display_data"
    },
    {
     "data": {
      "text/plain": [
       "tensor(0.0010)"
      ]
     },
     "execution_count": 16,
     "metadata": {},
     "output_type": "execute_result"
    }
   ],
   "source": [
    "evaluate_model(model, test_loader, plot=True)"
   ]
  },
  {
   "cell_type": "code",
   "execution_count": 17,
   "id": "722fee71-de14-463f-abf6-e35f9f002ae1",
   "metadata": {},
   "outputs": [],
   "source": [
    "# Plot the results with the metrics inside it"
   ]
  },
  {
   "cell_type": "code",
   "execution_count": null,
   "id": "9a2f592f-d2be-4ea2-9e9e-d034d45f551d",
   "metadata": {},
   "outputs": [],
   "source": []
  },
  {
   "cell_type": "code",
   "execution_count": null,
   "id": "c474aced-89cf-41c7-ae2c-b98c4b87b1b9",
   "metadata": {},
   "outputs": [],
   "source": []
  }
 ],
 "metadata": {
  "kernelspec": {
   "display_name": "Python 3 (ipykernel)",
   "language": "python",
   "name": "python3"
  },
  "language_info": {
   "codemirror_mode": {
    "name": "ipython",
    "version": 3
   },
   "file_extension": ".py",
   "mimetype": "text/x-python",
   "name": "python",
   "nbconvert_exporter": "python",
   "pygments_lexer": "ipython3",
   "version": "3.10.13"
  }
 },
 "nbformat": 4,
 "nbformat_minor": 5
}
