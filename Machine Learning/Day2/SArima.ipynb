{
 "cells": [
  {
   "cell_type": "markdown",
   "id": "fd522ffc-f962-4b13-af22-a119e167e259",
   "metadata": {},
   "source": [
    "# SARIMA Modeling\n",
    "\n",
    "SARIMA (Seasonal ARIMA) extends the ARIMA model by incorporating seasonal components to better capture patterns that repeat at regular intervals, such as monthly or quarterly data.\n",
    "\n",
    "In ARIMA, we observed that the next hour's value depends on previous hours' values and the errors that occurred during their predictions. In SARIMA, the same principle applies, but now the next hour's value also depends on some seasonal values (e.g., the value from last year, the year before that, and so on) as well as the errors that occurred during their predictions.\n",
    "\n",
    "P specifies the number of seasons (seasonal values), Q determines the number of seasonal errors, and D specifies the number of seasonal differences. s specifies the length of a season. For example, if we consider a season to be a year, then **s = 24 × 365 = 8760**.\n",
    "\n",
    "If data is chaotic and doesn't have seasonal variation, SARIMA is not helpful and it's very slow.\n",
    "\n",
    "## Seasonal Components\n",
    "\n",
    "In addition to the non-seasonal ARIMA parameters $(p, d, q)$, SARIMA includes seasonal parameters $(P, D, Q)_s$, where:\n",
    "\n",
    "- **$P$ (Seasonal Autoregression):** Captures the relationship between the current value and its previous seasonal values.\n",
    "  \n",
    "  $$\n",
    "  y_t = \\alpha_1 y_{t-s} + \\alpha_2 y_{t-2s} + \\dots + \\alpha_P y_{t-Ps} + \\dots\n",
    "  $$\n",
    "\n",
    "- **$D$ (Seasonal Differencing):** Removes seasonal trends by differencing the series at the seasonal lag.\n",
    "  \n",
    "  $$\n",
    "  y_t' = y_t - y_{t-s}\n",
    "  $$\n",
    "\n",
    "- **$Q$ (Seasonal Moving Average):** Models the dependency between the current value and past seasonal forecast errors.\n",
    "  \n",
    "  $$\n",
    "  y_t = e_t + \\beta_1 e_{t-s} + \\beta_2 e_{t-2s} + \\dots + \\beta_Q e_{t-Qs} + \\dots\n",
    "  $$\n",
    "\n",
    "- **$s$ (Seasonal Period):** The number of time steps in a seasonal cycle (e.g., $s=12$ for monthly data with yearly seasonality).\n",
    "\n",
    "## SARIMA $(p, d, q) \\times (P, D, Q)_s$ Model\n",
    "\n",
    "The SARIMA model combines both non-seasonal and seasonal components:\n",
    "\n",
    "$$\n",
    "\\Phi_P(B^s) \\phi_p(B) (1 - B)^d (1 - B^s)^D y_t = \\Theta_q(B) \\Theta_Q(B^s) e_t\n",
    "$$\n",
    "\n",
    "Where:\n",
    "- $\\phi_p(B)$ and $\\Theta_q(B)$ are the non-seasonal AR and MA polynomials.\n",
    "- $\\Phi_P(B^s)$ and $\\Theta_Q(B^s)$ are the seasonal AR and MA polynomials.\n",
    "- $B$ is the backshift operator, $B y_t = y_{t-1}$.\n",
    "\n",
    "## Fitting a SARIMA Model\n",
    "\n",
    "To fit a SARIMA model:\n",
    "1. **Determine $p$, $d$, $q$, $P$, $D$, $Q$, and $s$:** Analyze both non-seasonal and seasonal ACF (Auto-correlation Function) and PACF (Partial Auto-correlation Function) plots to identify appropriate orders.\n",
    "2. **Estimate parameters:** Use Maximum Likelihood Estimation (MLE) to estimate both non-seasonal and seasonal parameters.\n",
    "3. **Model validation:** Perform diagnostic checks, including residual analysis, to ensure both seasonal and non-seasonal components are well captured.\n",
    "4. **Forecast:** Utilize the fitted SARIMA model to make forecasts that account for both trends and seasonality.\n",
    "\n",
    "## Benefits of SARIMA\n",
    "\n",
    "- **Captures Seasonality:** Effectively models data with strong seasonal patterns, which ARIMA alone may not handle well.\n",
    "- **Improved Forecast Accuracy:** By accounting for seasonal effects, SARIMA often provides more accurate forecasts for seasonal time series.\n",
    "\n",
    "SARIMA modeling extends ARIMA by adding seasonal autoregressive, differencing, and moving average components, allowing it to model and forecast data with seasonal patterns effectively.\n",
    "\n"
   ]
  },
  {
   "cell_type": "code",
   "execution_count": 83,
   "id": "5a88f527-08eb-448d-9883-ef8cfc1fe7d4",
   "metadata": {},
   "outputs": [],
   "source": [
    "import pandas as pd\n",
    "import numpy as np\n",
    "import matplotlib.pyplot as plt\n",
    "import warnings\n",
    "import copy\n",
    "\n",
    "warnings.filterwarnings(\"ignore\")"
   ]
  },
  {
   "cell_type": "code",
   "execution_count": 84,
   "id": "f48a1de7-6968-45b6-9ba4-890570392cbd",
   "metadata": {},
   "outputs": [],
   "source": [
    "df = pd.read_csv('../dataset/final_data.csv')"
   ]
  },
  {
   "cell_type": "code",
   "execution_count": 85,
   "id": "ce023f8b-f2a2-4b6e-a067-f7e4dfd6a7b9",
   "metadata": {},
   "outputs": [
    {
     "data": {
      "text/plain": [
       "Index(['Unnamed: 0', 'DATE', 'Precip', 'WetBulbTemp', 'DryBulbTemp',\n",
       "       'RelHumidity', 'WindSpeed', 'StationPressure', 'gauge_height'],\n",
       "      dtype='object')"
      ]
     },
     "execution_count": 85,
     "metadata": {},
     "output_type": "execute_result"
    }
   ],
   "source": [
    "df.columns"
   ]
  },
  {
   "cell_type": "markdown",
   "id": "8173b91d-8b4e-4b50-96df-81e79ecb8d21",
   "metadata": {},
   "source": [
    "<hr>\n",
    "\n",
    "The standard SARIMA model is used for univariate forecasting. i.e. it uses only one column of data as input. Same ARIMA object in statsmodels also\n",
    "implements SARIMA model, it just takes seasonal_order as argument where we provide seasonal parameters (P,D,Q,s).\n",
    "\n",
    "There's also SARIMAX model implemented in statsmodels which encapsulates the univariate SARIMA model as well as it has option to include\n",
    "exogenous variables (multivariate SARIMA). \n",
    "\n",
    "We will implement SARIMA to make prediction for future values of gauge height based on past values using the same ARIMA class.\n",
    "\n",
    "We will fit model for same data as ARIMA. SARIMA is much more complex model than ARIMA with more parameters to learn, and computaitonally intensive and slow.\n",
    "We will use s = 7 hours just for demonstration, it's not practical. SARIMA should be used if s is not large and you know there's periodicity in the data.\n",
    "\n",
    "Select data for year 2023."
   ]
  },
  {
   "cell_type": "code",
   "execution_count": 86,
   "id": "4e072d8b-3c68-4d73-bdd0-bb09c3afef24",
   "metadata": {},
   "outputs": [],
   "source": [
    "df['DATE'] = pd.to_datetime(df['DATE'])\n",
    "\n",
    "df_23 = df[df.DATE.dt.year == 2023]"
   ]
  },
  {
   "cell_type": "markdown",
   "id": "a2e8661f-90b6-4095-8092-08e742b8bfe4",
   "metadata": {},
   "source": [
    "Next select only the gauge height data"
   ]
  },
  {
   "cell_type": "code",
   "execution_count": 87,
   "id": "a226a412-c06a-4251-b74a-5885a2572a70",
   "metadata": {},
   "outputs": [],
   "source": [
    "df_23_gh = df_23[['DATE', 'gauge_height']]\n",
    "\n",
    "df_23_gh.set_index('DATE', inplace=True)"
   ]
  },
  {
   "cell_type": "markdown",
   "id": "e1d90422-caa4-4830-89c0-80b849d11316",
   "metadata": {},
   "source": [
    "Resample the data to daily."
   ]
  },
  {
   "cell_type": "code",
   "execution_count": 88,
   "id": "a4ec0e5d-9235-4cca-b460-bf35c81bb333",
   "metadata": {},
   "outputs": [
    {
     "data": {
      "text/html": [
       "<div>\n",
       "<style scoped>\n",
       "    .dataframe tbody tr th:only-of-type {\n",
       "        vertical-align: middle;\n",
       "    }\n",
       "\n",
       "    .dataframe tbody tr th {\n",
       "        vertical-align: top;\n",
       "    }\n",
       "\n",
       "    .dataframe thead th {\n",
       "        text-align: right;\n",
       "    }\n",
       "</style>\n",
       "<table border=\"1\" class=\"dataframe\">\n",
       "  <thead>\n",
       "    <tr style=\"text-align: right;\">\n",
       "      <th></th>\n",
       "      <th>gauge_height</th>\n",
       "    </tr>\n",
       "    <tr>\n",
       "      <th>DATE</th>\n",
       "      <th></th>\n",
       "    </tr>\n",
       "  </thead>\n",
       "  <tbody>\n",
       "    <tr>\n",
       "      <th>2023-01-01 00:00:00</th>\n",
       "      <td>7.0725</td>\n",
       "    </tr>\n",
       "    <tr>\n",
       "      <th>2023-01-01 01:00:00</th>\n",
       "      <td>8.4900</td>\n",
       "    </tr>\n",
       "    <tr>\n",
       "      <th>2023-01-01 02:00:00</th>\n",
       "      <td>9.6575</td>\n",
       "    </tr>\n",
       "    <tr>\n",
       "      <th>2023-01-01 03:00:00</th>\n",
       "      <td>10.1700</td>\n",
       "    </tr>\n",
       "    <tr>\n",
       "      <th>2023-01-01 04:00:00</th>\n",
       "      <td>10.0800</td>\n",
       "    </tr>\n",
       "    <tr>\n",
       "      <th>...</th>\n",
       "      <td>...</td>\n",
       "    </tr>\n",
       "    <tr>\n",
       "      <th>2023-12-31 19:00:00</th>\n",
       "      <td>4.5350</td>\n",
       "    </tr>\n",
       "    <tr>\n",
       "      <th>2023-12-31 20:00:00</th>\n",
       "      <td>4.5400</td>\n",
       "    </tr>\n",
       "    <tr>\n",
       "      <th>2023-12-31 21:00:00</th>\n",
       "      <td>4.5275</td>\n",
       "    </tr>\n",
       "    <tr>\n",
       "      <th>2023-12-31 22:00:00</th>\n",
       "      <td>4.5125</td>\n",
       "    </tr>\n",
       "    <tr>\n",
       "      <th>2023-12-31 23:00:00</th>\n",
       "      <td>4.5025</td>\n",
       "    </tr>\n",
       "  </tbody>\n",
       "</table>\n",
       "<p>8760 rows × 1 columns</p>\n",
       "</div>"
      ],
      "text/plain": [
       "                     gauge_height\n",
       "DATE                             \n",
       "2023-01-01 00:00:00        7.0725\n",
       "2023-01-01 01:00:00        8.4900\n",
       "2023-01-01 02:00:00        9.6575\n",
       "2023-01-01 03:00:00       10.1700\n",
       "2023-01-01 04:00:00       10.0800\n",
       "...                           ...\n",
       "2023-12-31 19:00:00        4.5350\n",
       "2023-12-31 20:00:00        4.5400\n",
       "2023-12-31 21:00:00        4.5275\n",
       "2023-12-31 22:00:00        4.5125\n",
       "2023-12-31 23:00:00        4.5025\n",
       "\n",
       "[8760 rows x 1 columns]"
      ]
     },
     "execution_count": 88,
     "metadata": {},
     "output_type": "execute_result"
    }
   ],
   "source": [
    "df_23_gh"
   ]
  },
  {
   "cell_type": "markdown",
   "id": "6c73d316-87ce-4b08-9d8a-3a5710e67cf3",
   "metadata": {},
   "source": [
    "**Split the data such that, 10 months data is used for training and 2 months data is used for testing**"
   ]
  },
  {
   "cell_type": "code",
   "execution_count": 89,
   "id": "a2b2685d-1f61-4304-ae4b-e3a49ecdf697",
   "metadata": {},
   "outputs": [],
   "source": [
    "train, test = df_23_gh[:'2023-11-01 00:00:00'], df_23_gh['2023-11-01 01:00:00':]"
   ]
  },
  {
   "cell_type": "code",
   "execution_count": 90,
   "id": "10e8ac5d-fbe0-4751-91c0-0924b38bdef4",
   "metadata": {},
   "outputs": [
    {
     "name": "stdout",
     "output_type": "stream",
     "text": [
      "7297 1463 8760 8760\n"
     ]
    }
   ],
   "source": [
    "print(len(train), len(test), len(train)+len(test), len(df_23_gh))"
   ]
  },
  {
   "cell_type": "code",
   "execution_count": 91,
   "id": "d7dc1d30-4aa1-40d7-aebb-a010e7c931dc",
   "metadata": {},
   "outputs": [],
   "source": [
    "# import SARIMAX model\n",
    "\n",
    "from statsmodels.tsa.arima.model import ARIMA\n",
    "warnings.filterwarnings(\"ignore\")"
   ]
  },
  {
   "cell_type": "markdown",
   "id": "30e8c3b7-712b-49ff-b5f2-5b9865b2dbec",
   "metadata": {},
   "source": [
    "Note that p, d and q are also the hyperparameters in SARIMA similar to ARIMA model\n",
    "- p stands for \"sequence length or lookback window or lag\"\n",
    "- q stands for \"number of past errors\"\n",
    "- d stands for differencing\n",
    "\n",
    "Along with  p, d, q there are 4 more hyperparameters i.e. P, D, Q and s.\n",
    "- P stands for \"seasonal autogression\"\n",
    "- D stands for \"seasonal difference\"\n",
    "- Q stands for \"seasonal moving average\"\n",
    "- s stands for \"Seasonal Period\"\n",
    "\n",
    "Larger the value of s, more computation and thus time is required to train the model.\n",
    "We will train with smaller value of s.\n",
    "  \n",
    "Let's train the model with lookback window of 24 hours\n"
   ]
  },
  {
   "cell_type": "code",
   "execution_count": 92,
   "id": "4ad0bbaa-32a8-4686-b230-ea4aaa45ce25",
   "metadata": {},
   "outputs": [],
   "source": [
    "# Using 6 hours because it's computationally expensive and slow to use more. But you can try.\n",
    "\n",
    "ORDER = (6, 1, 6) #p,d,q\n",
    "SEASONAL_ORDER = (2, 0, 1, 7) #P,D,Q,s\n",
    "\n",
    "model = ARIMA(train, order=ORDER, seasonal_order=SEASONAL_ORDER, freq='1h',\n",
    "                    enforce_invertibility=False) "
   ]
  },
  {
   "cell_type": "code",
   "execution_count": 95,
   "id": "47b1d1cc-9a7b-4b32-bc7f-8c994bb02191",
   "metadata": {},
   "outputs": [],
   "source": [
    "model_fit = model.fit(method='innovations_mle', low_memory=True, cov_type='none') ## the argments passed in the fit function are to reduce computational time. src: https://stackoverflow.com/questions/61548583/why-sarima-has-seasonal-limits"
   ]
  },
  {
   "cell_type": "markdown",
   "id": "78950147-c1cf-4bd0-93e7-3b75d823078b",
   "metadata": {},
   "source": [
    "We have to fit the SARIMA model which is basically ARIMA with seasonal components, which means we have calculated p(6), P(2) parameters that approximate how previous observations affect the next output.\n",
    "Similary, we have calculated q(6), Q(1) parameters that approximate how previous errors (predictions) affect the next output.\n",
    "\n",
    "we trained model for training data, it has a bunch of information it has saved. They are stored in following fields."
   ]
  },
  {
   "cell_type": "code",
   "execution_count": 96,
   "id": "1f0fe905-f6f7-4d5c-87ab-3771237da075",
   "metadata": {},
   "outputs": [],
   "source": [
    "# Data saved in the model\n",
    "\n",
    "# model_fit.resid  - Pandas Series with date as index : Saved residuals\n",
    "# model_fit.model.endog - Numpy array 2D array : Saved training data\n",
    "# model_fit.fittedvalues - Pandas Series with date as index : Fitted (predicted) values from training data\n",
    "# model_fit.arparams - Numpy array : calculated parameters that determine effect of past values \n",
    "# model_fit.maparams - Numpy array : calculated parameters that dtermine effect of past errors"
   ]
  },
  {
   "cell_type": "markdown",
   "id": "1f9f4253-ca04-4123-94be-da3de0bd90b3",
   "metadata": {},
   "source": [
    "<hr>\n",
    "\n",
    "## Performing forecasting and evaluating the model and outputs.\n",
    "\n",
    "Similar to ARIMA we can make forecasts in 2 ways.\n",
    "\n",
    "### Making predictions using the trained model\n",
    "1. Prediction with refitting\n",
    "\n",
    "In this method, we make forecast for next step using the trained model. Then, when we get the observation for next step, we update the training data with this new observation.\n",
    "And finally we retrain the model to update the parameters and make prediction for next step. \n",
    "\n",
    "\n",
    "2. Rolling foreast\n",
    "\n",
    "In this method, given the test data for next steps, the model makes next prediction, then it dynamically uses the corresponding observaed values from test data, calculates residuals and uses this information to make further predictions.  \n"
   ]
  },
  {
   "cell_type": "code",
   "execution_count": 97,
   "id": "1af056e1-85a3-4662-8708-3b0bc1de2708",
   "metadata": {},
   "outputs": [
    {
     "name": "stdout",
     "output_type": "stream",
     "text": [
      "0/20 done\n",
      "1/20 done\n",
      "2/20 done\n",
      "3/20 done\n",
      "4/20 done\n",
      "5/20 done\n",
      "6/20 done\n",
      "7/20 done\n",
      "8/20 done\n",
      "9/20 done\n",
      "10/20 done\n",
      "11/20 done\n",
      "12/20 done\n",
      "13/20 done\n",
      "14/20 done\n",
      "15/20 done\n",
      "16/20 done\n",
      "17/20 done\n",
      "18/20 done\n",
      "19/20 done\n"
     ]
    }
   ],
   "source": [
    "# Method 1\n",
    "predicted_values = []\n",
    "observed_values = []\n",
    "\n",
    "history = train.copy()\n",
    "\n",
    "# This method is slow, we will make prediction for next 20 steps only\n",
    "test_subset = test[:20]\n",
    "\n",
    "model_fit1 = copy.deepcopy(model_fit)\n",
    "\n",
    "for i in range(len(test_subset)):\n",
    "    # make prediction for next timestep\n",
    "    \n",
    "    prediction = model_fit1.forecast(steps=1)[0]\n",
    "\n",
    "    idx = test_subset.index[i]\n",
    "\n",
    "    # observed value at next timestep\n",
    "    observation = test_subset.iloc[i]\n",
    "\n",
    "    # update training data\n",
    "    history.loc[idx] = observation\n",
    "\n",
    "    model = ARIMA(history, order=ORDER, seasonal_order=SEASONAL_ORDER, freq='1h')\n",
    "    model_fit1 = model.fit(method='innovations_mle', low_memory=True, cov_type='none')\n",
    "    \n",
    "    predicted_values.append(prediction)\n",
    "    observed_values.append(observation)\n",
    "    print(f'{i}/{len(test_subset)} done')\n"
   ]
  },
  {
   "cell_type": "markdown",
   "id": "8779cad1-f4d2-443c-a1fd-bc7f6c38cfae",
   "metadata": {},
   "source": [
    "Next, we will perform rolling forecast. In this approach we won't retrain the model each time but provide last observed <br>value to the model in each step.\n",
    "It updates the previous vaues and residuals but parameters are not updated.\n",
    "\n",
    "`append` method \n",
    "\n",
    "\"Recreate the results object with new data appended to the original data.\n",
    "Creates a new result object <br>applied to a dataset that is created by appending new data to the end of the model’s original data. <br>The new results can then be used for analysis or forecasting.\" **-- from documentation**"
   ]
  },
  {
   "cell_type": "markdown",
   "id": "98fab832-1811-40c8-8261-a2c32ffc8202",
   "metadata": {},
   "source": [
    "### Method 2\n"
   ]
  },
  {
   "cell_type": "code",
   "execution_count": 105,
   "id": "6a78635e-c6b9-4bcd-8286-5b6bf55fb27c",
   "metadata": {},
   "outputs": [],
   "source": [
    "# to compare between the results obtained above, we will just compute for 20 steps \n",
    "# rolling evaluation\n",
    "\n",
    "# append method documentation\n",
    "# url: https://www.statsmodels.org/stable/generated/statsmodels.tsa.arima.model.ARIMAResults.append.html\n",
    "\n",
    "\n",
    "# Method 2\n",
    "predicted_values2 = []\n",
    "observed_values2 = []\n",
    "\n",
    "test_subset = test[:20]\n",
    "\n",
    "model_fit2 = copy.deepcopy(model_fit)\n",
    "\n",
    "for i in range(len(test_subset)):\n",
    "    # make prediction for next timestep\n",
    "    \n",
    "    prediction = model_fit2.forecast(steps=1)[0]\n",
    "\n",
    "    idx = test_subset.index[i]\n",
    "\n",
    "    # observed value at next timestep\n",
    "    observation = test_subset.iloc[i]\n",
    "\n",
    "    # add the observed value to the model\n",
    "    model_fit2 = model_fit2.append([observation], refit=False)\n",
    "    \n",
    "    predicted_values2.append(prediction)\n",
    "    observed_values2.append(observation)\n",
    "\n",
    "\n",
    "\n",
    "#prediction_subset = model_fit.predict(start=test_subset.index[0], end=test_subset.index[-1], dynamic=True)"
   ]
  },
  {
   "cell_type": "markdown",
   "id": "dd33fbf0-9e9e-41f8-911f-573f085f0571",
   "metadata": {},
   "source": [
    "<hr>\n",
    "\n",
    "Let's calculate how the model did by calculating the metrics. We will compute \n",
    "\n",
    "- Mean Absolute Error(MAE)\n",
    "- Nash Sutcliffe Efficiency (NSE) Coefficent\n",
    "- Weighted Percentage Error (WAPE)"
   ]
  },
  {
   "cell_type": "code",
   "execution_count": 99,
   "id": "e94859e4-23b9-4733-bf0b-6953ffef484e",
   "metadata": {},
   "outputs": [],
   "source": [
    "from sklearn.metrics import mean_absolute_error\n",
    "\n",
    "import numpy as np\n",
    "\n",
    "epsilon = np.finfo(float).eps\n",
    "\n",
    "def WAPE(y, y_pred):\n",
    "    \"\"\"Weighted Average Percentage Error metric in the interval [0; 100]\"\"\"\n",
    "    nominator = np.sum(np.abs(np.subtract(y, y_pred)))\n",
    "    denominator = np.add(np.sum(np.abs(y)), epsilon)\n",
    "    wape = np.divide(nominator, denominator)*100.0\n",
    "    return wape\n",
    "\n",
    "def NSE(y, y_pred):\n",
    "    return (1-(np.sum((y_pred-y)**2)/np.sum((y-np.mean(y))**2)))"
   ]
  },
  {
   "cell_type": "markdown",
   "id": "047d7d3f-e411-4bed-9dc7-74a7f95bbee7",
   "metadata": {},
   "source": [
    "Following method executes the above functions and print results.\n",
    "\n",
    "Before executing, it's important to make sure that input vectors are 1D numpy arrays."
   ]
  },
  {
   "cell_type": "code",
   "execution_count": 100,
   "id": "cc08b5c6-7e08-4bf6-9ee8-1d1168f8caa0",
   "metadata": {},
   "outputs": [],
   "source": [
    "def evaluate(test_subset, prediction_subset):\n",
    "    \n",
    "    test_subset = np.array(test_subset).flatten()\n",
    "    prediction_subset = np.array(prediction_subset).flatten()\n",
    "    \n",
    "    mae = mean_absolute_error(test_subset, prediction_subset)\n",
    "    nse = NSE(test_subset, prediction_subset)\n",
    "    wape = WAPE(test_subset, prediction_subset)\n",
    "    \n",
    "    print(f'MAE: {mae:.2f}\\nNSE: {nse}\\nWAPE: {wape}')"
   ]
  },
  {
   "cell_type": "code",
   "execution_count": 101,
   "id": "2409844c-3d7f-4bd2-968d-a88fc817e19a",
   "metadata": {},
   "outputs": [
    {
     "name": "stdout",
     "output_type": "stream",
     "text": [
      "Rolling evaluation\n",
      "MAE: 0.09\n",
      "NSE: 0.9193232725238962\n",
      "WAPE: 1.5996670366553996\n",
      "\n",
      "Retraining each time\n",
      "MAE: 0.09\n",
      "NSE: 0.9138551098532347\n",
      "WAPE: 1.6406893615729345\n"
     ]
    }
   ],
   "source": [
    "print(\"Rolling evaluation\")\n",
    "evaluate(observed_values2, predicted_values2)\n",
    "\n",
    "print(\"\\nRetraining each time\")\n",
    "evaluate(observed_values, predicted_values)"
   ]
  },
  {
   "cell_type": "markdown",
   "id": "c3c60447-93cb-4b30-b404-3ed40e0d9056",
   "metadata": {},
   "source": [
    "**Here we evaluate the model for all of the test data.**"
   ]
  },
  {
   "cell_type": "code",
   "execution_count": 102,
   "id": "26bb97cb-8304-4ac1-911a-fdf0a97de6a9",
   "metadata": {},
   "outputs": [
    {
     "name": "stdout",
     "output_type": "stream",
     "text": [
      "0/1463 done\n",
      "100/1463 done\n",
      "200/1463 done\n",
      "300/1463 done\n",
      "400/1463 done\n",
      "500/1463 done\n",
      "600/1463 done\n",
      "700/1463 done\n",
      "800/1463 done\n",
      "900/1463 done\n",
      "1000/1463 done\n",
      "1100/1463 done\n",
      "1200/1463 done\n",
      "1300/1463 done\n",
      "1400/1463 done\n"
     ]
    }
   ],
   "source": [
    "def make_predictions(test, model):\n",
    "    predicted_values = []\n",
    "    \n",
    "    for i in range(len(test)):\n",
    "        # make prediction for next timestep\n",
    "        \n",
    "        prediction = model.forecast(steps=1)[0]\n",
    "    \n",
    "        idx = test.index[i]\n",
    "    \n",
    "        # observed value at next timestep\n",
    "        observation = test.iloc[i]\n",
    "    \n",
    "        model = model.append([observation], refit=False)\n",
    "        \n",
    "        predicted_values.append(prediction)\n",
    "        if(i % 100 == 0):\n",
    "            print(f'{i}/{len(test)} done')\n",
    "        \n",
    "    return predicted_values\n",
    "\n",
    "\n",
    "predictions = make_predictions(test, copy.deepcopy(model_fit))\n"
   ]
  },
  {
   "cell_type": "code",
   "execution_count": 103,
   "id": "1ef5ad02-f4a2-417b-b664-38054ca47495",
   "metadata": {},
   "outputs": [
    {
     "name": "stdout",
     "output_type": "stream",
     "text": [
      "MAE: 0.04\n",
      "NSE: 0.9975903463803919\n",
      "WAPE: 0.749702873566442\n"
     ]
    }
   ],
   "source": [
    "evaluate(test, predictions)"
   ]
  },
  {
   "cell_type": "code",
   "execution_count": 104,
   "id": "d84dbc5c-84a3-43ad-8444-ee70ef76a5ff",
   "metadata": {},
   "outputs": [
    {
     "data": {
      "image/png": "[encoded data removed]",
      "text/plain": [
       "<Figure size 640x480 with 1 Axes>"
      ]
     },
     "metadata": {},
     "output_type": "display_data"
    }
   ],
   "source": [
    "x = range(len(test))\n",
    "\n",
    "# add evaluation results in the graph itself\n",
    "\n",
    "plt.plot(np.array(test[:100]), color='green', label='observations')\n",
    "plt.plot(np.array(predictions[:100]), color='red', linestyle='-', label='predictions')\n",
    "plt.legend()\n",
    "plt.show()"
   ]
  },
  {
   "cell_type": "code",
   "execution_count": null,
   "id": "727c3fa3-7d3f-4a94-822b-5915ac161d0c",
   "metadata": {},
   "outputs": [],
   "source": []
  }
 ],
 "metadata": {
  "kernelspec": {
   "display_name": "Python 3 (ipykernel)",
   "language": "python",
   "name": "python3"
  },
  "language_info": {
   "codemirror_mode": {
    "name": "ipython",
    "version": 3
   },
   "file_extension": ".py",
   "mimetype": "text/x-python",
   "name": "python",
   "nbconvert_exporter": "python",
   "pygments_lexer": "ipython3",
   "version": "3.12.6"
  }
 },
 "nbformat": 4,
 "nbformat_minor": 5
}
