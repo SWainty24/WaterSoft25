{
 "cells": [
  {
   "cell_type": "code",
   "execution_count": 1,
   "id": "5a88f527-08eb-448d-9883-ef8cfc1fe7d4",
   "metadata": {},
   "outputs": [],
   "source": [
    "import pandas as pd\n",
    "import numpy as np"
   ]
  },
  {
   "cell_type": "code",
   "execution_count": 2,
   "id": "f48a1de7-6968-45b6-9ba4-890570392cbd",
   "metadata": {},
   "outputs": [],
   "source": [
    "df = pd.read_csv('../dataset/chattahoochee_1hr_02336490.csv')"
   ]
  },
  {
   "cell_type": "code",
   "execution_count": 3,
   "id": "ce023f8b-f2a2-4b6e-a067-f7e4dfd6a7b9",
   "metadata": {},
   "outputs": [
    {
     "data": {
      "text/html": [
       "<div>\n",
       "<style scoped>\n",
       "    .dataframe tbody tr th:only-of-type {\n",
       "        vertical-align: middle;\n",
       "    }\n",
       "\n",
       "    .dataframe tbody tr th {\n",
       "        vertical-align: top;\n",
       "    }\n",
       "\n",
       "    .dataframe thead th {\n",
       "        text-align: right;\n",
       "    }\n",
       "</style>\n",
       "<table border=\"1\" class=\"dataframe\">\n",
       "  <thead>\n",
       "    <tr style=\"text-align: right;\">\n",
       "      <th></th>\n",
       "      <th>DryBulbTemp</th>\n",
       "      <th>Precip</th>\n",
       "      <th>RelHumidity</th>\n",
       "      <th>Stationpressure</th>\n",
       "      <th>WetBulbTemp</th>\n",
       "      <th>WindSpeed</th>\n",
       "      <th>gaze_height</th>\n",
       "      <th>DATE</th>\n",
       "    </tr>\n",
       "  </thead>\n",
       "  <tbody>\n",
       "    <tr>\n",
       "      <th>0</th>\n",
       "      <td>46.0</td>\n",
       "      <td>0.0</td>\n",
       "      <td>93.0</td>\n",
       "      <td>29.20</td>\n",
       "      <td>45.0</td>\n",
       "      <td>0.0</td>\n",
       "      <td>13.37</td>\n",
       "      <td>2010-01-01 00:00:00</td>\n",
       "    </tr>\n",
       "    <tr>\n",
       "      <th>1</th>\n",
       "      <td>46.0</td>\n",
       "      <td>0.0</td>\n",
       "      <td>93.0</td>\n",
       "      <td>29.19</td>\n",
       "      <td>45.0</td>\n",
       "      <td>0.0</td>\n",
       "      <td>13.41</td>\n",
       "      <td>2010-01-01 01:00:00</td>\n",
       "    </tr>\n",
       "    <tr>\n",
       "      <th>2</th>\n",
       "      <td>45.0</td>\n",
       "      <td>0.0</td>\n",
       "      <td>93.0</td>\n",
       "      <td>29.20</td>\n",
       "      <td>44.0</td>\n",
       "      <td>7.0</td>\n",
       "      <td>13.39</td>\n",
       "      <td>2010-01-01 02:00:00</td>\n",
       "    </tr>\n",
       "    <tr>\n",
       "      <th>3</th>\n",
       "      <td>45.0</td>\n",
       "      <td>0.0</td>\n",
       "      <td>90.0</td>\n",
       "      <td>29.19</td>\n",
       "      <td>44.0</td>\n",
       "      <td>6.0</td>\n",
       "      <td>13.37</td>\n",
       "      <td>2010-01-01 03:00:00</td>\n",
       "    </tr>\n",
       "    <tr>\n",
       "      <th>4</th>\n",
       "      <td>45.0</td>\n",
       "      <td>0.0</td>\n",
       "      <td>81.0</td>\n",
       "      <td>29.17</td>\n",
       "      <td>42.0</td>\n",
       "      <td>9.0</td>\n",
       "      <td>13.34</td>\n",
       "      <td>2010-01-01 04:00:00</td>\n",
       "    </tr>\n",
       "    <tr>\n",
       "      <th>...</th>\n",
       "      <td>...</td>\n",
       "      <td>...</td>\n",
       "      <td>...</td>\n",
       "      <td>...</td>\n",
       "      <td>...</td>\n",
       "      <td>...</td>\n",
       "      <td>...</td>\n",
       "      <td>...</td>\n",
       "    </tr>\n",
       "    <tr>\n",
       "      <th>125569</th>\n",
       "      <td>73.0</td>\n",
       "      <td>0.0</td>\n",
       "      <td>79.0</td>\n",
       "      <td>29.06</td>\n",
       "      <td>68.0</td>\n",
       "      <td>3.0</td>\n",
       "      <td>7.29</td>\n",
       "      <td>2024-05-27 23:00:00</td>\n",
       "    </tr>\n",
       "    <tr>\n",
       "      <th>125570</th>\n",
       "      <td>71.0</td>\n",
       "      <td>0.0</td>\n",
       "      <td>87.0</td>\n",
       "      <td>29.07</td>\n",
       "      <td>68.0</td>\n",
       "      <td>0.0</td>\n",
       "      <td>7.14</td>\n",
       "      <td>2024-05-28 00:00:00</td>\n",
       "    </tr>\n",
       "    <tr>\n",
       "      <th>125571</th>\n",
       "      <td>69.0</td>\n",
       "      <td>0.0</td>\n",
       "      <td>90.0</td>\n",
       "      <td>29.08</td>\n",
       "      <td>67.0</td>\n",
       "      <td>0.0</td>\n",
       "      <td>7.01</td>\n",
       "      <td>2024-05-28 01:00:00</td>\n",
       "    </tr>\n",
       "    <tr>\n",
       "      <th>125572</th>\n",
       "      <td>69.0</td>\n",
       "      <td>0.0</td>\n",
       "      <td>93.0</td>\n",
       "      <td>29.07</td>\n",
       "      <td>68.0</td>\n",
       "      <td>0.0</td>\n",
       "      <td>6.91</td>\n",
       "      <td>2024-05-28 02:00:00</td>\n",
       "    </tr>\n",
       "    <tr>\n",
       "      <th>125573</th>\n",
       "      <td>68.0</td>\n",
       "      <td>0.0</td>\n",
       "      <td>93.0</td>\n",
       "      <td>29.07</td>\n",
       "      <td>67.0</td>\n",
       "      <td>0.0</td>\n",
       "      <td>6.82</td>\n",
       "      <td>2024-05-28 03:00:00</td>\n",
       "    </tr>\n",
       "  </tbody>\n",
       "</table>\n",
       "<p>125574 rows × 8 columns</p>\n",
       "</div>"
      ],
      "text/plain": [
       "        DryBulbTemp  Precip  RelHumidity  Stationpressure  WetBulbTemp  \\\n",
       "0              46.0     0.0         93.0            29.20         45.0   \n",
       "1              46.0     0.0         93.0            29.19         45.0   \n",
       "2              45.0     0.0         93.0            29.20         44.0   \n",
       "3              45.0     0.0         90.0            29.19         44.0   \n",
       "4              45.0     0.0         81.0            29.17         42.0   \n",
       "...             ...     ...          ...              ...          ...   \n",
       "125569         73.0     0.0         79.0            29.06         68.0   \n",
       "125570         71.0     0.0         87.0            29.07         68.0   \n",
       "125571         69.0     0.0         90.0            29.08         67.0   \n",
       "125572         69.0     0.0         93.0            29.07         68.0   \n",
       "125573         68.0     0.0         93.0            29.07         67.0   \n",
       "\n",
       "        WindSpeed  gaze_height                 DATE  \n",
       "0             0.0        13.37  2010-01-01 00:00:00  \n",
       "1             0.0        13.41  2010-01-01 01:00:00  \n",
       "2             7.0        13.39  2010-01-01 02:00:00  \n",
       "3             6.0        13.37  2010-01-01 03:00:00  \n",
       "4             9.0        13.34  2010-01-01 04:00:00  \n",
       "...           ...          ...                  ...  \n",
       "125569        3.0         7.29  2024-05-27 23:00:00  \n",
       "125570        0.0         7.14  2024-05-28 00:00:00  \n",
       "125571        0.0         7.01  2024-05-28 01:00:00  \n",
       "125572        0.0         6.91  2024-05-28 02:00:00  \n",
       "125573        0.0         6.82  2024-05-28 03:00:00  \n",
       "\n",
       "[125574 rows x 8 columns]"
      ]
     },
     "execution_count": 3,
     "metadata": {},
     "output_type": "execute_result"
    }
   ],
   "source": [
    "df"
   ]
  },
  {
   "cell_type": "code",
   "execution_count": 4,
   "id": "4e072d8b-3c68-4d73-bdd0-bb09c3afef24",
   "metadata": {},
   "outputs": [
    {
     "data": {
      "text/plain": [
       "'\\n    objective is to find values of d, p and q\\n    \\n    we need to use techniques such as the ACF (Auto-correlation function) and the PACF (partial auto correlation\\n    function) plots.\\n    \\n    then estimate the parameters a and b values using Maximum Likelihood Estimation (MLE)\\n    \\n    then validate the model using diagnostics such as residual analysis\\n    \\n    Finally forecast the future values\\n'"
      ]
     },
     "execution_count": 4,
     "metadata": {},
     "output_type": "execute_result"
    }
   ],
   "source": [
    "# ARIMA Modeling\n",
    "\n",
    "# AR (Autoregression): \n",
    "'''\n",
    "    The model assumes that the current value of the series is a linear combination of its previous values.\n",
    "    That's why there's regression term in the name. Note that it's a very special and important assumption and is\n",
    "    a limitation+feature of the technique.\n",
    "    \n",
    "    Math\n",
    "    \n",
    "    y_t = a1 * y_t-1 + a2 * y_t-1 + ... + ap * y_t-p + e_t(error term)\n",
    "\n",
    "    where a1, a2, ..., ap are the parameters of the model.\n",
    "\n",
    "    p - Called the lag order, represents the number of past values the current value depends on\n",
    "'''\n",
    "\n",
    "# I (intergrated):\n",
    "'''\n",
    "    I component refers to the differencing of the series to make it stationary (wihout trends and seasonality).\n",
    "    Differencing is a technique used to transform a non-stationary series into a stationary one by substracting\n",
    "    the previous observation from the current observation.\n",
    "\n",
    "    Math\n",
    "    \n",
    "    y_t' = y_t - y_t-1\n",
    "\n",
    "    for higher orders of differencing (i.e., d > 1)\n",
    "    y_t'' = y_t' - y_t-1' = (y_t - y_t-1) - (y_t-1 - y_t-2)\n",
    "\n",
    "    The integer d denotes the number of differences needed to make the series stationary.\n",
    "    we repeatedly perform this operation until series becomes stationary.\n",
    "\n",
    "    and let the final differences to d_t -> differenced d times\n",
    "\n",
    "    d = Degree of differencing\n",
    "'''\n",
    "\n",
    "# MA (Moving Average): \n",
    "'''\n",
    "    It models the dependency between the current value and past errors. It assumes that the current value\n",
    "    of the series depends linearly on the past forecast errors.\n",
    "    \n",
    "    Math\n",
    "\n",
    "    y_t = e_t + b1 * e_t-1 + b2 * e_t-2 + ... + bq * e_t-q\n",
    "\n",
    "    q = Order of moving average, indicates size of MA window\n",
    "'''\n",
    "\n",
    "# ARIMA (p,d,q) Model\n",
    "'''\n",
    "    The full ARIMA model combines the AR, I and MA components into a single equation\n",
    "    \n",
    "    d_t = a1 * d_t-1 + ... + ap * d_t-p + e_t + b1 * e_t-1 + ... + bq * e_t-q\n",
    "    \n",
    "    d_t = represents the differenced series after applying differecing d times\n",
    "    a1, a2, ... ,ap captures the relationship with past values\n",
    "    b1, b2, ... ,bq captures the relationship with past errors\n",
    "'''\n",
    "\n",
    "# Fitting an ARIMA model\n",
    "'''\n",
    "    objective is to find values of d, p and q\n",
    "    \n",
    "    we need to use techniques such as the ACF (Auto-correlation function) and the PACF (partial auto correlation\n",
    "    function) plots.\n",
    "    \n",
    "    then estimate the parameters a and b values using Maximum Likelihood Estimation (MLE)\n",
    "    \n",
    "    then validate the model using diagnostics such as residual analysis\n",
    "    \n",
    "    Finally forecast the future values\n",
    "'''"
   ]
  },
  {
   "cell_type": "code",
   "execution_count": 5,
   "id": "242568c6-c496-43fa-9859-218919e456f4",
   "metadata": {},
   "outputs": [],
   "source": [
    "from pandas.plotting import autocorrelation_plot as acr_plot\n",
    "import matplotlib.pyplot as plt"
   ]
  },
  {
   "cell_type": "code",
   "execution_count": 6,
   "id": "807b9461-5055-46d1-89d5-b4a8a7528432",
   "metadata": {},
   "outputs": [
    {
     "data": {
      "image/png": "[encoded data removed]",
      "text/plain": [
       "<Figure size 640x480 with 1 Axes>"
      ]
     },
     "metadata": {},
     "output_type": "display_data"
    }
   ],
   "source": [
    "x = df['gaze_height']\n",
    "acr_plot(x)\n",
    "plt.show()"
   ]
  },
  {
   "cell_type": "code",
   "execution_count": 7,
   "id": "134c85cd-b923-4a63-8bf9-14a5f0979f7e",
   "metadata": {},
   "outputs": [
    {
     "data": {
      "text/plain": [
       "\"\\nThere's a very high correlation initially, at around lag=1, which suggests tat the series is somewhat\\npredictable in the short term.\\n\\nThe oscillating pattern suggests possible cyclical or seasonal pattern where the series has periods \\nof positive and negative correlation over time.\\n\\nThe oscillations or cycles represent yearly trend in data. There are 13-14 cycles(peaks or troughs)\\nwhich correspond to the data being collected between 2010 - 2024.\\n\\nwe can observe that after about 1000 lags, the correlation is extremely low\\n\""
      ]
     },
     "execution_count": 7,
     "metadata": {},
     "output_type": "execute_result"
    }
   ],
   "source": [
    "# Interpretation of the autocorrelation plot\n",
    "'''\n",
    "There's a very high correlation initially, at around lag=1, which suggests tat the series is somewhat\n",
    "predictable in the short term.\n",
    "\n",
    "The oscillating pattern suggests possible cyclical or seasonal pattern where the series has periods \n",
    "of positive and negative correlation over time.\n",
    "\n",
    "The oscillations or cycles represent yearly trend in data. There are 13-14 cycles(peaks or troughs)\n",
    "which correspond to the data being collected between 2010 - 2024.\n",
    "\n",
    "we can observe that after about 1000 lags, the correlation is extremely low\n",
    "'''"
   ]
  },
  {
   "cell_type": "code",
   "execution_count": 8,
   "id": "d7dc1d30-4aa1-40d7-aebb-a010e7c931dc",
   "metadata": {},
   "outputs": [],
   "source": [
    "# Let's fit an ARIMA model and plot residual errors\n",
    "\n",
    "from statsmodels.tsa.arima.model import ARIMA"
   ]
  },
  {
   "cell_type": "code",
   "execution_count": 41,
   "id": "4ad0bbaa-32a8-4686-b230-ea4aaa45ce25",
   "metadata": {},
   "outputs": [],
   "source": [
    "train = x\n",
    "model = ARIMA(train, order=(13,5,5)) #lag p=1000; difference d=1; error dependency q=0 "
   ]
  },
  {
   "cell_type": "code",
   "execution_count": 42,
   "id": "47b1d1cc-9a7b-4b32-bc7f-8c994bb02191",
   "metadata": {},
   "outputs": [
    {
     "name": "stderr",
     "output_type": "stream",
     "text": [
      "/Users/cuser/Documents/cybertraining/venv/lib/python3.12/site-packages/statsmodels/tsa/statespace/sarimax.py:966: UserWarning: Non-stationary starting autoregressive parameters found. Using zeros as starting parameters.\n",
      "  warn('Non-stationary starting autoregressive parameters'\n",
      "/Users/cuser/Documents/cybertraining/venv/lib/python3.12/site-packages/statsmodels/tsa/statespace/sarimax.py:978: UserWarning: Non-invertible starting MA parameters found. Using zeros as starting parameters.\n",
      "  warn('Non-invertible starting MA parameters found.'\n"
     ]
    }
   ],
   "source": [
    "model_fit = model.fit()"
   ]
  },
  {
   "cell_type": "code",
   "execution_count": 40,
   "id": "aa6d06dc-202c-450f-9511-0adb7aa233ec",
   "metadata": {},
   "outputs": [
    {
     "name": "stdout",
     "output_type": "stream",
     "text": [
      "                               SARIMAX Results                                \n",
      "==============================================================================\n",
      "Dep. Variable:            gaze_height   No. Observations:               125574\n",
      "Model:                ARIMA(20, 1, 0)   Log Likelihood               51161.498\n",
      "Date:                Tue, 20 Aug 2024   AIC                        -102280.996\n",
      "Time:                        14:12:05   BIC                        -102076.442\n",
      "Sample:                             0   HQIC                       -102219.547\n",
      "                             - 125574                                         \n",
      "Covariance Type:                  opg                                         \n",
      "==============================================================================\n",
      "                 coef    std err          z      P>|z|      [0.025      0.975]\n",
      "------------------------------------------------------------------------------\n",
      "ar.L1          1.2541      0.001   1746.033      0.000       1.253       1.256\n",
      "ar.L2         -0.6971      0.002   -410.660      0.000      -0.700      -0.694\n",
      "ar.L3          0.2778      0.003     99.015      0.000       0.272       0.283\n",
      "ar.L4         -0.1359      0.004    -35.709      0.000      -0.143      -0.128\n",
      "ar.L5          0.0433      0.004      9.848      0.000       0.035       0.052\n",
      "ar.L6         -0.0337      0.005     -7.223      0.000      -0.043      -0.025\n",
      "ar.L7         -0.0039      0.005     -0.800      0.424      -0.014       0.006\n",
      "ar.L8         -0.0157      0.005     -3.133      0.002      -0.025      -0.006\n",
      "ar.L9         -0.0030      0.005     -0.582      0.561      -0.013       0.007\n",
      "ar.L10        -0.0167      0.005     -3.273      0.001      -0.027      -0.007\n",
      "ar.L11        -0.0041      0.005     -0.806      0.420      -0.014       0.006\n",
      "ar.L12        -0.0180      0.005     -3.523      0.000      -0.028      -0.008\n",
      "ar.L13        -0.0014      0.005     -0.297      0.767      -0.011       0.008\n",
      "ar.L14        -0.0183      0.005     -3.849      0.000      -0.028      -0.009\n",
      "ar.L15        -0.0068      0.005     -1.341      0.180      -0.017       0.003\n",
      "ar.L16        -0.0121      0.005     -2.357      0.018      -0.022      -0.002\n",
      "ar.L17        -0.0078      0.005     -1.736      0.083      -0.017       0.001\n",
      "ar.L18         0.0036      0.004      0.883      0.377      -0.004       0.012\n",
      "ar.L19        -0.0246      0.004     -6.575      0.000      -0.032      -0.017\n",
      "ar.L20         0.0236      0.002     10.477      0.000       0.019       0.028\n",
      "sigma2         0.0259   2.36e-05   1099.735      0.000       0.026       0.026\n",
      "===================================================================================\n",
      "Ljung-Box (L1) (Q):                   0.03   Jarque-Bera (JB):           8844168.39\n",
      "Prob(Q):                              0.86   Prob(JB):                         0.00\n",
      "Heteroskedasticity (H):               1.14   Skew:                             2.59\n",
      "Prob(H) (two-sided):                  0.00   Kurtosis:                        43.78\n",
      "===================================================================================\n",
      "\n",
      "Warnings:\n",
      "[1] Covariance matrix calculated using the outer product of gradients (complex-step).\n"
     ]
    },
    {
     "data": {
      "image/png": "[encoded data removed]",
      "text/plain": [
       "<Figure size 640x480 with 1 Axes>"
      ]
     },
     "metadata": {},
     "output_type": "display_data"
    },
    {
     "data": {
      "image/png": "[encoded data removed]",
      "text/plain": [
       "<Figure size 640x480 with 1 Axes>"
      ]
     },
     "metadata": {},
     "output_type": "display_data"
    },
    {
     "name": "stdout",
     "output_type": "stream",
     "text": [
      "                   0\n",
      "count  125574.000000\n",
      "mean        0.000087\n",
      "std         0.165359\n",
      "min        -3.561590\n",
      "25%        -0.047532\n",
      "50%        -0.009275\n",
      "75%         0.025156\n",
      "max        13.370000\n"
     ]
    }
   ],
   "source": [
    "#summary of fit model\n",
    "print(model_fit.summary())\n",
    "residuals = pd.DataFrame(model_fit.resid)\n",
    "residuals.plot()\n",
    "plt.show()\n",
    "residuals.plot(kind = 'kde')\n",
    "plt.show()\n",
    "print(residuals.describe())"
   ]
  },
  {
   "cell_type": "code",
   "execution_count": null,
   "id": "249ab3bb-6825-4a2f-85d0-b6113bdf59c4",
   "metadata": {},
   "outputs": [],
   "source": [
    "'''\n",
    "The first graph is a line plot of the residual erros, suggesting that\n",
    "there's not much trend in information after a big spike in the begining\n",
    "\n",
    "The second graph is a density plot of the residual error values, suggesting\n",
    "the errors are Gaussian with mean close to zero.\n",
    "'''"
   ]
  },
  {
   "cell_type": "code",
   "execution_count": 72,
   "id": "94f12f1b-55da-4767-bb49-0421f66ce548",
   "metadata": {
    "scrolled": true
   },
   "outputs": [
    {
     "name": "stderr",
     "output_type": "stream",
     "text": [
      "/var/folders/j3/9_pszf256zvgnry9z0x72k_h0000gn/T/ipykernel_28744/2938927196.py:37: DeprecationWarning: Conversion of an array with ndim > 0 to a scalar is deprecated, and will error in future. Ensure you extract a single element from your array before performing this operation. (Deprecated NumPy 1.25.)\n",
      "  print('predicted=%f, expected=%f' % (yhat, obs))\n"
     ]
    },
    {
     "name": "stdout",
     "output_type": "stream",
     "text": [
      "predicted=5.892090, expected=5.790000\n",
      "predicted=5.610183, expected=5.590000\n",
      "predicted=5.431139, expected=5.430000\n",
      "predicted=5.325936, expected=5.340000\n",
      "predicted=5.298657, expected=5.250000\n",
      "predicted=5.176440, expected=5.190000\n",
      "predicted=5.168378, expected=5.180000\n",
      "predicted=5.194957, expected=5.120000\n",
      "predicted=5.045096, expected=4.980000\n",
      "predicted=4.847323, expected=4.850000\n",
      "predicted=4.766552, expected=4.750000\n",
      "predicted=4.681837, expected=4.680000\n",
      "predicted=4.639408, expected=4.620000\n",
      "predicted=4.579358, expected=4.540000\n",
      "predicted=4.472139, expected=4.460000\n",
      "predicted=4.405044, expected=4.290000\n",
      "predicted=4.115569, expected=4.140000\n",
      "predicted=4.052441, expected=4.120000\n",
      "predicted=4.161168, expected=4.340000\n",
      "predicted=4.609313, expected=5.260000\n",
      "predicted=6.282218, expected=5.890000\n",
      "predicted=6.126708, expected=6.230000\n",
      "predicted=6.443785, expected=6.400000\n",
      "predicted=6.460323, expected=6.430000\n",
      "predicted=6.373335, expected=6.450000\n",
      "predicted=6.460635, expected=6.450000\n",
      "predicted=6.425685, expected=6.430000\n",
      "predicted=6.405204, expected=6.370000\n",
      "predicted=6.305713, expected=6.160000\n",
      "predicted=5.930349, expected=5.820000\n",
      "predicted=5.518843, expected=5.420000\n",
      "predicted=5.097060, expected=5.090000\n",
      "predicted=4.876792, expected=4.780000\n",
      "predicted=4.543366, expected=4.540000\n",
      "predicted=4.401851, expected=4.370000\n",
      "predicted=4.272944, expected=4.290000\n",
      "predicted=4.274198, expected=4.350000\n",
      "predicted=4.461428, expected=4.520000\n",
      "predicted=4.691791, expected=4.630000\n",
      "predicted=4.678473, expected=4.660000\n",
      "predicted=4.661646, expected=4.660000\n",
      "predicted=4.651693, expected=4.660000\n",
      "predicted=4.656053, expected=4.830000\n",
      "predicted=5.040407, expected=5.260000\n",
      "predicted=5.687991, expected=5.600000\n",
      "predicted=5.782827, expected=5.640000\n",
      "predicted=5.553875, expected=5.400000\n",
      "predicted=5.115391, expected=5.070000\n",
      "predicted=4.790433, expected=4.780000\n",
      "predicted=4.569109, expected=4.620000\n",
      "predicted=4.551425, expected=4.710000\n",
      "predicted=4.890217, expected=5.130000\n",
      "predicted=5.588472, expected=5.340000\n",
      "predicted=5.363037, expected=5.420000\n",
      "predicted=5.477206, expected=5.460000\n",
      "predicted=5.471541, expected=5.460000\n",
      "predicted=5.430233, expected=5.320000\n",
      "predicted=5.144185, expected=5.080000\n",
      "predicted=4.866751, expected=4.830000\n",
      "predicted=4.640614, expected=4.640000\n",
      "predicted=4.520840, expected=4.480000\n",
      "predicted=4.366221, expected=4.410000\n",
      "predicted=4.406209, expected=4.380000\n",
      "predicted=4.368867, expected=4.620000\n",
      "predicted=4.941093, expected=5.040000\n",
      "predicted=5.409440, expected=5.680000\n",
      "predicted=6.267918, expected=6.160000\n",
      "predicted=6.419978, expected=6.650000\n",
      "predicted=7.064685, expected=8.910000\n",
      "predicted=11.488973, expected=10.110000\n",
      "predicted=10.186066, expected=10.810000\n",
      "predicted=11.394206, expected=11.490000\n",
      "predicted=11.974368, expected=11.760000\n",
      "predicted=11.690184, expected=11.480000\n",
      "predicted=11.040200, expected=10.970000\n",
      "predicted=10.514375, expected=10.440000\n",
      "predicted=10.013651, expected=10.030000\n",
      "predicted=9.763476, expected=9.850000\n",
      "predicted=9.813993, expected=9.440000\n",
      "predicted=8.994921, expected=8.690000\n",
      "predicted=8.015960, expected=7.990000\n",
      "predicted=7.528338, expected=7.980000\n",
      "predicted=8.287843, expected=8.660000\n",
      "predicted=9.420737, expected=8.730000\n",
      "predicted=8.430955, expected=8.270000\n",
      "predicted=7.818638, expected=7.660000\n",
      "predicted=7.157922, expected=7.150000\n",
      "predicted=6.788687, expected=7.210000\n",
      "predicted=7.514986, expected=8.290000\n",
      "predicted=9.542485, expected=9.060000\n",
      "predicted=9.374788, expected=9.450000\n",
      "predicted=9.691439, expected=9.610000\n",
      "predicted=9.646511, expected=9.570000\n",
      "predicted=9.430511, expected=8.990000\n",
      "predicted=8.283787, expected=8.570000\n",
      "predicted=8.399846, expected=8.850000\n",
      "predicted=9.342590, expected=9.080000\n",
      "predicted=9.130666, expected=8.720000\n",
      "predicted=8.224107, expected=8.060000\n",
      "predicted=7.505917, expected=7.460000\n",
      "predicted=7.034070, expected=7.000000\n",
      "predicted=6.688043, expected=6.710000\n",
      "predicted=6.565466, expected=6.530000\n",
      "predicted=6.443002, expected=6.270000\n",
      "predicted=6.037844, expected=5.990000\n",
      "predicted=5.796709, expected=5.930000\n",
      "predicted=5.996212, expected=5.890000\n",
      "predicted=5.835573, expected=5.870000\n",
      "predicted=5.883577, expected=6.170000\n",
      "predicted=6.559388, expected=6.500000\n",
      "predicted=6.714740, expected=6.720000\n",
      "predicted=6.852304, expected=6.790000\n",
      "predicted=6.786607, expected=6.720000\n",
      "predicted=6.607415, expected=6.580000\n",
      "predicted=6.445066, expected=6.470000\n",
      "predicted=6.399352, expected=6.410000\n",
      "predicted=6.378842, expected=6.360000\n",
      "predicted=6.322944, expected=6.290000\n",
      "predicted=6.231506, expected=6.200000\n",
      "predicted=6.127499, expected=5.990000\n",
      "predicted=5.773508, expected=5.670000\n",
      "predicted=5.391703, expected=5.400000\n",
      "predicted=5.230605, expected=5.220000\n",
      "predicted=5.114237, expected=5.110000\n",
      "predicted=5.055270, expected=5.060000\n",
      "predicted=5.053041, expected=5.030000\n",
      "predicted=5.017077, expected=4.980000\n",
      "predicted=4.936235, expected=4.950000\n",
      "predicted=4.943714, expected=4.900000\n",
      "predicted=4.847983, expected=4.840000\n",
      "predicted=4.795069, expected=4.810000\n",
      "predicted=4.803137, expected=4.760000\n",
      "predicted=4.707030, expected=4.770000\n",
      "predicted=4.814247, expected=4.740000\n",
      "predicted=4.686625, expected=4.680000\n",
      "predicted=4.631488, expected=4.610000\n",
      "predicted=4.554255, expected=4.570000\n",
      "predicted=4.554111, expected=4.510000\n",
      "predicted=4.449520, expected=4.440000\n",
      "predicted=4.388743, expected=4.390000\n",
      "predicted=4.363263, expected=4.410000\n",
      "predicted=4.456983, expected=4.330000\n",
      "predicted=4.210439, expected=4.330000\n",
      "predicted=4.393184, expected=4.370000\n",
      "predicted=4.399718, expected=4.400000\n",
      "predicted=4.417709, expected=4.420000\n",
      "predicted=4.435817, expected=4.420000\n",
      "predicted=4.410578, expected=4.450000\n",
      "predicted=4.489631, expected=4.430000\n",
      "predicted=4.382812, expected=4.420000\n",
      "predicted=4.427817, expected=4.420000\n",
      "predicted=4.419236, expected=4.460000\n",
      "predicted=4.509281, expected=4.630000\n",
      "predicted=4.818399, expected=4.950000\n",
      "predicted=5.249390, expected=5.410000\n",
      "predicted=5.813834, expected=5.820000\n",
      "predicted=6.092667, expected=6.060000\n",
      "predicted=6.171871, expected=6.140000\n",
      "predicted=6.137956, expected=6.140000\n",
      "predicted=6.105145, expected=6.140000\n",
      "predicted=6.134502, expected=6.130000\n",
      "predicted=6.107944, expected=6.120000\n",
      "predicted=6.113188, expected=6.120000\n",
      "predicted=6.124226, expected=6.070000\n",
      "predicted=6.005484, expected=6.070000\n",
      "predicted=6.104263, expected=6.070000\n",
      "predicted=6.057937, expected=6.070000\n",
      "predicted=6.074257, expected=6.090000\n",
      "predicted=6.115726, expected=6.130000\n",
      "predicted=6.167025, expected=6.110000\n",
      "predicted=6.063056, expected=5.910000\n",
      "predicted=5.679627, expected=5.590000\n",
      "predicted=5.311941, expected=5.270000\n",
      "predicted=5.032927, expected=5.020000\n",
      "predicted=4.857807, expected=4.890000\n",
      "predicted=4.844435, expected=4.850000\n",
      "predicted=4.856161, expected=4.790000\n",
      "predicted=4.734300, expected=4.740000\n",
      "predicted=4.721127, expected=4.760000\n",
      "predicted=4.808712, expected=5.210000\n",
      "predicted=5.756456, expected=5.710000\n",
      "predicted=6.049404, expected=5.920000\n",
      "predicted=5.959708, expected=5.900000\n",
      "predicted=5.818164, expected=5.700000\n",
      "predicted=5.465162, expected=5.520000\n",
      "predicted=5.398366, expected=5.370000\n",
      "predicted=5.251774, expected=5.240000\n",
      "predicted=5.149706, expected=4.990000\n",
      "predicted=4.742942, expected=4.710000\n",
      "predicted=4.507202, expected=4.470000\n",
      "predicted=4.306280, expected=4.310000\n",
      "predicted=4.223019, expected=5.260000\n",
      "predicted=6.530489, expected=7.350000\n",
      "predicted=9.332792, expected=7.660000\n",
      "predicted=6.905351, expected=7.340000\n",
      "predicted=7.161500, expected=6.910000\n",
      "predicted=6.468556, expected=6.560000\n",
      "predicted=6.278594, expected=6.270000\n",
      "predicted=6.057333, expected=6.010000\n",
      "predicted=5.830925, expected=5.810000\n",
      "predicted=5.695431, expected=5.650000\n",
      "predicted=5.547118, expected=5.590000\n",
      "predicted=5.597685, expected=5.630000\n",
      "predicted=5.701212, expected=5.640000\n",
      "predicted=5.627191, expected=5.650000\n",
      "predicted=5.672545, expected=5.640000\n",
      "predicted=5.620446, expected=5.660000\n",
      "predicted=5.692959, expected=5.780000\n",
      "predicted=5.914245, expected=5.930000\n",
      "predicted=6.044433, expected=6.060000\n",
      "predicted=6.151321, expected=6.130000\n",
      "predicted=6.157600, expected=6.150000\n",
      "predicted=6.146110, expected=6.340000\n",
      "predicted=6.570011, expected=7.530000\n",
      "predicted=8.898080, expected=8.260000\n",
      "predicted=8.430076, expected=8.060000\n",
      "predicted=7.596049, expected=7.550000\n",
      "predicted=7.115891, expected=7.050000\n",
      "predicted=6.636437, expected=6.670000\n",
      "predicted=6.409643, expected=6.430000\n",
      "predicted=6.304975, expected=6.240000\n",
      "predicted=6.116456, expected=6.100000\n",
      "predicted=6.029828, expected=6.150000\n",
      "predicted=6.284458, expected=6.280000\n",
      "predicted=6.394975, expected=6.360000\n",
      "predicted=6.400310, expected=6.390000\n",
      "predicted=6.403429, expected=6.400000\n",
      "predicted=6.400455, expected=6.410000\n",
      "predicted=6.414975, expected=6.400000\n",
      "predicted=6.379761, expected=6.400000\n",
      "predicted=6.407912, expected=6.330000\n",
      "predicted=6.238547, expected=6.280000\n",
      "predicted=6.264452, expected=6.230000\n",
      "predicted=6.183442, expected=6.190000\n",
      "predicted=6.166763, expected=6.170000\n",
      "predicted=6.164324, expected=6.160000\n",
      "predicted=6.155805, expected=6.200000\n",
      "predicted=6.256063, expected=6.310000\n",
      "predicted=6.421447, expected=7.300000\n",
      "predicted=8.482921, expected=8.020000\n",
      "predicted=8.290178, expected=7.850000\n",
      "predicted=7.388369, expected=7.360000\n",
      "predicted=6.946656, expected=6.890000\n",
      "predicted=6.511241, expected=6.540000\n",
      "predicted=6.299850, expected=6.390000\n",
      "predicted=6.363501, expected=6.340000\n",
      "predicted=6.337167, expected=6.440000\n",
      "predicted=6.597554, expected=6.430000\n",
      "predicted=6.355295, expected=6.220000\n",
      "predicted=5.992814, expected=5.970000\n",
      "predicted=5.784929, expected=5.760000\n",
      "predicted=5.610871, expected=5.820000\n",
      "predicted=5.992394, expected=6.020000\n",
      "predicted=6.204069, expected=6.140000\n",
      "predicted=6.193080, expected=6.170000\n",
      "predicted=6.173765, expected=6.150000\n",
      "predicted=6.116379, expected=6.120000\n",
      "predicted=6.090458, expected=6.090000\n",
      "predicted=6.063490, expected=6.040000\n",
      "predicted=5.991151, expected=5.990000\n",
      "predicted=5.955868, expected=5.970000\n",
      "predicted=5.968835, expected=5.970000\n",
      "predicted=5.975726, expected=5.980000\n",
      "predicted=5.992521, expected=5.970000\n",
      "predicted=5.953018, expected=6.000000\n"
     ]
    },
    {
     "ename": "KeyboardInterrupt",
     "evalue": "",
     "output_type": "error",
     "traceback": [
      "\u001b[0;31m---------------------------------------------------------------------------\u001b[0m",
      "\u001b[0;31mKeyboardInterrupt\u001b[0m                         Traceback (most recent call last)",
      "Cell \u001b[0;32mIn[72], line 31\u001b[0m\n\u001b[1;32m     29\u001b[0m \u001b[38;5;28;01mfor\u001b[39;00m t \u001b[38;5;129;01min\u001b[39;00m \u001b[38;5;28mrange\u001b[39m(\u001b[38;5;28mlen\u001b[39m(test)):\n\u001b[1;32m     30\u001b[0m  model \u001b[38;5;241m=\u001b[39m ARIMA(history, order\u001b[38;5;241m=\u001b[39m(\u001b[38;5;241m5\u001b[39m,\u001b[38;5;241m1\u001b[39m,\u001b[38;5;241m0\u001b[39m))\n\u001b[0;32m---> 31\u001b[0m  model_fit \u001b[38;5;241m=\u001b[39m \u001b[43mmodel\u001b[49m\u001b[38;5;241;43m.\u001b[39;49m\u001b[43mfit\u001b[49m\u001b[43m(\u001b[49m\u001b[43m)\u001b[49m\n\u001b[1;32m     32\u001b[0m  output \u001b[38;5;241m=\u001b[39m model_fit\u001b[38;5;241m.\u001b[39mforecast()\n\u001b[1;32m     33\u001b[0m  yhat \u001b[38;5;241m=\u001b[39m output[\u001b[38;5;241m0\u001b[39m]\n",
      "File \u001b[0;32m~/Documents/cybertraining/venv/lib/python3.12/site-packages/statsmodels/tsa/arima/model.py:395\u001b[0m, in \u001b[0;36mARIMA.fit\u001b[0;34m(self, start_params, transformed, includes_fixed, method, method_kwargs, gls, gls_kwargs, cov_type, cov_kwds, return_params, low_memory)\u001b[0m\n\u001b[1;32m    392\u001b[0m \u001b[38;5;28;01melse\u001b[39;00m:\n\u001b[1;32m    393\u001b[0m     method_kwargs\u001b[38;5;241m.\u001b[39msetdefault(\u001b[38;5;124m'\u001b[39m\u001b[38;5;124mdisp\u001b[39m\u001b[38;5;124m'\u001b[39m, \u001b[38;5;241m0\u001b[39m)\n\u001b[0;32m--> 395\u001b[0m     res \u001b[38;5;241m=\u001b[39m \u001b[38;5;28;43msuper\u001b[39;49m\u001b[43m(\u001b[49m\u001b[43m)\u001b[49m\u001b[38;5;241;43m.\u001b[39;49m\u001b[43mfit\u001b[49m\u001b[43m(\u001b[49m\n\u001b[1;32m    396\u001b[0m \u001b[43m        \u001b[49m\u001b[43mreturn_params\u001b[49m\u001b[38;5;241;43m=\u001b[39;49m\u001b[43mreturn_params\u001b[49m\u001b[43m,\u001b[49m\u001b[43m \u001b[49m\u001b[43mlow_memory\u001b[49m\u001b[38;5;241;43m=\u001b[39;49m\u001b[43mlow_memory\u001b[49m\u001b[43m,\u001b[49m\n\u001b[1;32m    397\u001b[0m \u001b[43m        \u001b[49m\u001b[43mcov_type\u001b[49m\u001b[38;5;241;43m=\u001b[39;49m\u001b[43mcov_type\u001b[49m\u001b[43m,\u001b[49m\u001b[43m \u001b[49m\u001b[43mcov_kwds\u001b[49m\u001b[38;5;241;43m=\u001b[39;49m\u001b[43mcov_kwds\u001b[49m\u001b[43m,\u001b[49m\u001b[43m \u001b[49m\u001b[38;5;241;43m*\u001b[39;49m\u001b[38;5;241;43m*\u001b[39;49m\u001b[43mmethod_kwargs\u001b[49m\u001b[43m)\u001b[49m\n\u001b[1;32m    398\u001b[0m     \u001b[38;5;28;01mif\u001b[39;00m \u001b[38;5;129;01mnot\u001b[39;00m return_params:\n\u001b[1;32m    399\u001b[0m         res\u001b[38;5;241m.\u001b[39mfit_details \u001b[38;5;241m=\u001b[39m res\u001b[38;5;241m.\u001b[39mmlefit\n",
      "File \u001b[0;32m~/Documents/cybertraining/venv/lib/python3.12/site-packages/statsmodels/tsa/statespace/mlemodel.py:727\u001b[0m, in \u001b[0;36mMLEModel.fit\u001b[0;34m(self, start_params, transformed, includes_fixed, cov_type, cov_kwds, method, maxiter, full_output, disp, callback, return_params, optim_score, optim_complex_step, optim_hessian, flags, low_memory, **kwargs)\u001b[0m\n\u001b[1;32m    725\u001b[0m \u001b[38;5;28;01melse\u001b[39;00m:\n\u001b[1;32m    726\u001b[0m     func \u001b[38;5;241m=\u001b[39m \u001b[38;5;28mself\u001b[39m\u001b[38;5;241m.\u001b[39msmooth\n\u001b[0;32m--> 727\u001b[0m res \u001b[38;5;241m=\u001b[39m \u001b[43mfunc\u001b[49m\u001b[43m(\u001b[49m\u001b[43mmlefit\u001b[49m\u001b[38;5;241;43m.\u001b[39;49m\u001b[43mparams\u001b[49m\u001b[43m,\u001b[49m\u001b[43m \u001b[49m\u001b[43mtransformed\u001b[49m\u001b[38;5;241;43m=\u001b[39;49m\u001b[38;5;28;43;01mFalse\u001b[39;49;00m\u001b[43m,\u001b[49m\u001b[43m \u001b[49m\u001b[43mincludes_fixed\u001b[49m\u001b[38;5;241;43m=\u001b[39;49m\u001b[38;5;28;43;01mFalse\u001b[39;49;00m\u001b[43m,\u001b[49m\n\u001b[1;32m    728\u001b[0m \u001b[43m           \u001b[49m\u001b[43mcov_type\u001b[49m\u001b[38;5;241;43m=\u001b[39;49m\u001b[43mcov_type\u001b[49m\u001b[43m,\u001b[49m\u001b[43m \u001b[49m\u001b[43mcov_kwds\u001b[49m\u001b[38;5;241;43m=\u001b[39;49m\u001b[43mcov_kwds\u001b[49m\u001b[43m)\u001b[49m\n\u001b[1;32m    730\u001b[0m res\u001b[38;5;241m.\u001b[39mmlefit \u001b[38;5;241m=\u001b[39m mlefit\n\u001b[1;32m    731\u001b[0m res\u001b[38;5;241m.\u001b[39mmle_retvals \u001b[38;5;241m=\u001b[39m mlefit\u001b[38;5;241m.\u001b[39mmle_retvals\n",
      "File \u001b[0;32m~/Documents/cybertraining/venv/lib/python3.12/site-packages/statsmodels/tsa/statespace/mlemodel.py:888\u001b[0m, in \u001b[0;36mMLEModel.smooth\u001b[0;34m(self, params, transformed, includes_fixed, complex_step, cov_type, cov_kwds, return_ssm, results_class, results_wrapper_class, **kwargs)\u001b[0m\n\u001b[1;32m    885\u001b[0m result \u001b[38;5;241m=\u001b[39m \u001b[38;5;28mself\u001b[39m\u001b[38;5;241m.\u001b[39mssm\u001b[38;5;241m.\u001b[39msmooth(complex_step\u001b[38;5;241m=\u001b[39mcomplex_step, \u001b[38;5;241m*\u001b[39m\u001b[38;5;241m*\u001b[39mkwargs)\n\u001b[1;32m    887\u001b[0m \u001b[38;5;66;03m# Wrap in a results object\u001b[39;00m\n\u001b[0;32m--> 888\u001b[0m \u001b[38;5;28;01mreturn\u001b[39;00m \u001b[38;5;28;43mself\u001b[39;49m\u001b[38;5;241;43m.\u001b[39;49m\u001b[43m_wrap_results\u001b[49m\u001b[43m(\u001b[49m\u001b[43mparams\u001b[49m\u001b[43m,\u001b[49m\u001b[43m \u001b[49m\u001b[43mresult\u001b[49m\u001b[43m,\u001b[49m\u001b[43m \u001b[49m\u001b[43mreturn_ssm\u001b[49m\u001b[43m,\u001b[49m\u001b[43m \u001b[49m\u001b[43mcov_type\u001b[49m\u001b[43m,\u001b[49m\n\u001b[1;32m    889\u001b[0m \u001b[43m                          \u001b[49m\u001b[43mcov_kwds\u001b[49m\u001b[43m,\u001b[49m\u001b[43m \u001b[49m\u001b[43mresults_class\u001b[49m\u001b[43m,\u001b[49m\n\u001b[1;32m    890\u001b[0m \u001b[43m                          \u001b[49m\u001b[43mresults_wrapper_class\u001b[49m\u001b[43m)\u001b[49m\n",
      "File \u001b[0;32m~/Documents/cybertraining/venv/lib/python3.12/site-packages/statsmodels/tsa/statespace/mlemodel.py:787\u001b[0m, in \u001b[0;36mMLEModel._wrap_results\u001b[0;34m(self, params, result, return_raw, cov_type, cov_kwds, results_class, wrapper_class)\u001b[0m\n\u001b[1;32m    784\u001b[0m     \u001b[38;5;28;01mif\u001b[39;00m wrapper_class \u001b[38;5;129;01mis\u001b[39;00m \u001b[38;5;28;01mNone\u001b[39;00m:\n\u001b[1;32m    785\u001b[0m         wrapper_class \u001b[38;5;241m=\u001b[39m \u001b[38;5;28mself\u001b[39m\u001b[38;5;241m.\u001b[39m_res_classes[\u001b[38;5;124m'\u001b[39m\u001b[38;5;124mfit\u001b[39m\u001b[38;5;124m'\u001b[39m][\u001b[38;5;241m1\u001b[39m]\n\u001b[0;32m--> 787\u001b[0m     res \u001b[38;5;241m=\u001b[39m \u001b[43mresults_class\u001b[49m\u001b[43m(\u001b[49m\u001b[38;5;28;43mself\u001b[39;49m\u001b[43m,\u001b[49m\u001b[43m \u001b[49m\u001b[43mparams\u001b[49m\u001b[43m,\u001b[49m\u001b[43m \u001b[49m\u001b[43mresult\u001b[49m\u001b[43m,\u001b[49m\u001b[43m \u001b[49m\u001b[38;5;241;43m*\u001b[39;49m\u001b[38;5;241;43m*\u001b[39;49m\u001b[43mresult_kwargs\u001b[49m\u001b[43m)\u001b[49m\n\u001b[1;32m    788\u001b[0m     result \u001b[38;5;241m=\u001b[39m wrapper_class(res)\n\u001b[1;32m    789\u001b[0m \u001b[38;5;28;01mreturn\u001b[39;00m result\n",
      "File \u001b[0;32m~/Documents/cybertraining/venv/lib/python3.12/site-packages/statsmodels/tsa/statespace/sarimax.py:1806\u001b[0m, in \u001b[0;36mSARIMAXResults.__init__\u001b[0;34m(self, model, params, filter_results, cov_type, **kwargs)\u001b[0m\n\u001b[1;32m   1804\u001b[0m \u001b[38;5;28;01mdef\u001b[39;00m \u001b[38;5;21m__init__\u001b[39m(\u001b[38;5;28mself\u001b[39m, model, params, filter_results, cov_type\u001b[38;5;241m=\u001b[39m\u001b[38;5;28;01mNone\u001b[39;00m,\n\u001b[1;32m   1805\u001b[0m              \u001b[38;5;241m*\u001b[39m\u001b[38;5;241m*\u001b[39mkwargs):\n\u001b[0;32m-> 1806\u001b[0m     \u001b[38;5;28;43msuper\u001b[39;49m\u001b[43m(\u001b[49m\u001b[43m)\u001b[49m\u001b[38;5;241;43m.\u001b[39;49m\u001b[38;5;21;43m__init__\u001b[39;49m\u001b[43m(\u001b[49m\u001b[43mmodel\u001b[49m\u001b[43m,\u001b[49m\u001b[43m \u001b[49m\u001b[43mparams\u001b[49m\u001b[43m,\u001b[49m\u001b[43m \u001b[49m\u001b[43mfilter_results\u001b[49m\u001b[43m,\u001b[49m\u001b[43m \u001b[49m\u001b[43mcov_type\u001b[49m\u001b[43m,\u001b[49m\u001b[43m \u001b[49m\u001b[38;5;241;43m*\u001b[39;49m\u001b[38;5;241;43m*\u001b[39;49m\u001b[43mkwargs\u001b[49m\u001b[43m)\u001b[49m\n\u001b[1;32m   1808\u001b[0m     \u001b[38;5;28mself\u001b[39m\u001b[38;5;241m.\u001b[39mdf_resid \u001b[38;5;241m=\u001b[39m np\u001b[38;5;241m.\u001b[39minf  \u001b[38;5;66;03m# attribute required for wald tests\u001b[39;00m\n\u001b[1;32m   1810\u001b[0m     \u001b[38;5;66;03m# Save _init_kwds\u001b[39;00m\n",
      "File \u001b[0;32m~/Documents/cybertraining/venv/lib/python3.12/site-packages/statsmodels/tsa/statespace/mlemodel.py:2372\u001b[0m, in \u001b[0;36mMLEResults.__init__\u001b[0;34m(self, model, params, results, cov_type, cov_kwds, **kwargs)\u001b[0m\n\u001b[1;32m   2370\u001b[0m \u001b[38;5;28;01mtry\u001b[39;00m:\n\u001b[1;32m   2371\u001b[0m     \u001b[38;5;28mself\u001b[39m\u001b[38;5;241m.\u001b[39m_rank \u001b[38;5;241m=\u001b[39m \u001b[38;5;28;01mNone\u001b[39;00m\n\u001b[0;32m-> 2372\u001b[0m     \u001b[38;5;28;43mself\u001b[39;49m\u001b[38;5;241;43m.\u001b[39;49m\u001b[43m_get_robustcov_results\u001b[49m\u001b[43m(\u001b[49m\u001b[43mcov_type\u001b[49m\u001b[38;5;241;43m=\u001b[39;49m\u001b[43mcov_type\u001b[49m\u001b[43m,\u001b[49m\u001b[43m \u001b[49m\u001b[43muse_self\u001b[49m\u001b[38;5;241;43m=\u001b[39;49m\u001b[38;5;28;43;01mTrue\u001b[39;49;00m\u001b[43m,\u001b[49m\n\u001b[1;32m   2373\u001b[0m \u001b[43m                                \u001b[49m\u001b[38;5;241;43m*\u001b[39;49m\u001b[38;5;241;43m*\u001b[39;49m\u001b[43mcov_kwds\u001b[49m\u001b[43m)\u001b[49m\n\u001b[1;32m   2374\u001b[0m \u001b[38;5;28;01mexcept\u001b[39;00m np\u001b[38;5;241m.\u001b[39mlinalg\u001b[38;5;241m.\u001b[39mLinAlgError:\n\u001b[1;32m   2375\u001b[0m     \u001b[38;5;28mself\u001b[39m\u001b[38;5;241m.\u001b[39m_rank \u001b[38;5;241m=\u001b[39m \u001b[38;5;241m0\u001b[39m\n",
      "File \u001b[0;32m~/Documents/cybertraining/venv/lib/python3.12/site-packages/statsmodels/tsa/statespace/mlemodel.py:2602\u001b[0m, in \u001b[0;36mMLEResults._get_robustcov_results\u001b[0;34m(self, cov_type, **kwargs)\u001b[0m\n\u001b[1;32m   2599\u001b[0m     res\u001b[38;5;241m.\u001b[39mcov_kwds[\u001b[38;5;124m'\u001b[39m\u001b[38;5;124mdescription\u001b[39m\u001b[38;5;124m'\u001b[39m] \u001b[38;5;241m=\u001b[39m descriptions[\u001b[38;5;124m'\u001b[39m\u001b[38;5;124mOIM\u001b[39m\u001b[38;5;124m'\u001b[39m]\u001b[38;5;241m.\u001b[39mformat(\n\u001b[1;32m   2600\u001b[0m                                         approx_type\u001b[38;5;241m=\u001b[39mapprox_type_str)\n\u001b[1;32m   2601\u001b[0m \u001b[38;5;28;01melif\u001b[39;00m \u001b[38;5;28mself\u001b[39m\u001b[38;5;241m.\u001b[39mcov_type \u001b[38;5;241m==\u001b[39m \u001b[38;5;124m'\u001b[39m\u001b[38;5;124mopg\u001b[39m\u001b[38;5;124m'\u001b[39m:\n\u001b[0;32m-> 2602\u001b[0m     res\u001b[38;5;241m.\u001b[39mcov_params_default \u001b[38;5;241m=\u001b[39m \u001b[43mres\u001b[49m\u001b[38;5;241;43m.\u001b[39;49m\u001b[43mcov_params_opg\u001b[49m\n\u001b[1;32m   2603\u001b[0m     res\u001b[38;5;241m.\u001b[39mcov_kwds[\u001b[38;5;124m'\u001b[39m\u001b[38;5;124mdescription\u001b[39m\u001b[38;5;124m'\u001b[39m] \u001b[38;5;241m=\u001b[39m descriptions[\u001b[38;5;124m'\u001b[39m\u001b[38;5;124mOPG\u001b[39m\u001b[38;5;124m'\u001b[39m]\u001b[38;5;241m.\u001b[39mformat(\n\u001b[1;32m   2604\u001b[0m                                         approx_type\u001b[38;5;241m=\u001b[39mapprox_type_str)\n\u001b[1;32m   2605\u001b[0m \u001b[38;5;28;01melif\u001b[39;00m \u001b[38;5;28mself\u001b[39m\u001b[38;5;241m.\u001b[39mcov_type \u001b[38;5;241m==\u001b[39m \u001b[38;5;124m'\u001b[39m\u001b[38;5;124mrobust\u001b[39m\u001b[38;5;124m'\u001b[39m \u001b[38;5;129;01mor\u001b[39;00m \u001b[38;5;28mself\u001b[39m\u001b[38;5;241m.\u001b[39mcov_type \u001b[38;5;241m==\u001b[39m \u001b[38;5;124m'\u001b[39m\u001b[38;5;124mrobust_oim\u001b[39m\u001b[38;5;124m'\u001b[39m:\n",
      "File \u001b[0;32mproperties.pyx:36\u001b[0m, in \u001b[0;36mpandas._libs.properties.CachedProperty.__get__\u001b[0;34m()\u001b[0m\n",
      "File \u001b[0;32m~/Documents/cybertraining/venv/lib/python3.12/site-packages/statsmodels/tsa/statespace/mlemodel.py:2732\u001b[0m, in \u001b[0;36mMLEResults.cov_params_opg\u001b[0;34m(self)\u001b[0m\n\u001b[1;32m   2726\u001b[0m \u001b[38;5;129m@cache_readonly\u001b[39m\n\u001b[1;32m   2727\u001b[0m \u001b[38;5;28;01mdef\u001b[39;00m \u001b[38;5;21mcov_params_opg\u001b[39m(\u001b[38;5;28mself\u001b[39m):\n\u001b[1;32m   2728\u001b[0m \u001b[38;5;250m    \u001b[39m\u001b[38;5;124;03m\"\"\"\u001b[39;00m\n\u001b[1;32m   2729\u001b[0m \u001b[38;5;124;03m    (array) The variance / covariance matrix. Computed using the outer\u001b[39;00m\n\u001b[1;32m   2730\u001b[0m \u001b[38;5;124;03m    product of gradients method.\u001b[39;00m\n\u001b[1;32m   2731\u001b[0m \u001b[38;5;124;03m    \"\"\"\u001b[39;00m\n\u001b[0;32m-> 2732\u001b[0m     \u001b[38;5;28;01mreturn\u001b[39;00m \u001b[38;5;28;43mself\u001b[39;49m\u001b[38;5;241;43m.\u001b[39;49m\u001b[43m_cov_params_opg\u001b[49m\u001b[43m(\u001b[49m\u001b[38;5;28;43mself\u001b[39;49m\u001b[38;5;241;43m.\u001b[39;49m\u001b[43m_cov_approx_complex_step\u001b[49m\u001b[43m,\u001b[49m\n\u001b[1;32m   2733\u001b[0m \u001b[43m                                \u001b[49m\u001b[38;5;28;43mself\u001b[39;49m\u001b[38;5;241;43m.\u001b[39;49m\u001b[43m_cov_approx_centered\u001b[49m\u001b[43m)\u001b[49m\n",
      "File \u001b[0;32m~/Documents/cybertraining/venv/lib/python3.12/site-packages/statsmodels/tsa/statespace/mlemodel.py:2699\u001b[0m, in \u001b[0;36mMLEResults._cov_params_opg\u001b[0;34m(self, approx_complex_step, approx_centered)\u001b[0m\n\u001b[1;32m   2698\u001b[0m \u001b[38;5;28;01mdef\u001b[39;00m \u001b[38;5;21m_cov_params_opg\u001b[39m(\u001b[38;5;28mself\u001b[39m, approx_complex_step\u001b[38;5;241m=\u001b[39m\u001b[38;5;28;01mTrue\u001b[39;00m, approx_centered\u001b[38;5;241m=\u001b[39m\u001b[38;5;28;01mFalse\u001b[39;00m):\n\u001b[0;32m-> 2699\u001b[0m     evaluated_hessian \u001b[38;5;241m=\u001b[39m \u001b[38;5;28mself\u001b[39m\u001b[38;5;241m.\u001b[39mnobs_effective \u001b[38;5;241m*\u001b[39m \u001b[38;5;28;43mself\u001b[39;49m\u001b[38;5;241;43m.\u001b[39;49m\u001b[43mmodel\u001b[49m\u001b[38;5;241;43m.\u001b[39;49m\u001b[43m_hessian_opg\u001b[49m\u001b[43m(\u001b[49m\n\u001b[1;32m   2700\u001b[0m \u001b[43m        \u001b[49m\u001b[38;5;28;43mself\u001b[39;49m\u001b[38;5;241;43m.\u001b[39;49m\u001b[43mparams\u001b[49m\u001b[43m,\u001b[49m\u001b[43m \u001b[49m\u001b[43mtransformed\u001b[49m\u001b[38;5;241;43m=\u001b[39;49m\u001b[38;5;28;43;01mTrue\u001b[39;49;00m\u001b[43m,\u001b[49m\u001b[43m \u001b[49m\u001b[43mincludes_fixed\u001b[49m\u001b[38;5;241;43m=\u001b[39;49m\u001b[38;5;28;43;01mTrue\u001b[39;49;00m\u001b[43m,\u001b[49m\n\u001b[1;32m   2701\u001b[0m \u001b[43m        \u001b[49m\u001b[43mapprox_complex_step\u001b[49m\u001b[38;5;241;43m=\u001b[39;49m\u001b[43mapprox_complex_step\u001b[49m\u001b[43m,\u001b[49m\n\u001b[1;32m   2702\u001b[0m \u001b[43m        \u001b[49m\u001b[43mapprox_centered\u001b[49m\u001b[38;5;241;43m=\u001b[39;49m\u001b[43mapprox_centered\u001b[49m\u001b[43m)\u001b[49m\n\u001b[1;32m   2704\u001b[0m     no_free_params \u001b[38;5;241m=\u001b[39m (\u001b[38;5;28mself\u001b[39m\u001b[38;5;241m.\u001b[39m_free_params_index \u001b[38;5;129;01mis\u001b[39;00m \u001b[38;5;129;01mnot\u001b[39;00m \u001b[38;5;28;01mNone\u001b[39;00m \u001b[38;5;129;01mand\u001b[39;00m\n\u001b[1;32m   2705\u001b[0m                       \u001b[38;5;28mlen\u001b[39m(\u001b[38;5;28mself\u001b[39m\u001b[38;5;241m.\u001b[39m_free_params_index) \u001b[38;5;241m==\u001b[39m \u001b[38;5;241m0\u001b[39m)\n\u001b[1;32m   2707\u001b[0m     \u001b[38;5;28;01mif\u001b[39;00m no_free_params:\n",
      "File \u001b[0;32m~/Documents/cybertraining/venv/lib/python3.12/site-packages/statsmodels/tsa/statespace/mlemodel.py:1541\u001b[0m, in \u001b[0;36mMLEModel._hessian_opg\u001b[0;34m(self, params, **kwargs)\u001b[0m\n\u001b[1;32m   1536\u001b[0m \u001b[38;5;28;01mdef\u001b[39;00m \u001b[38;5;21m_hessian_opg\u001b[39m(\u001b[38;5;28mself\u001b[39m, params, \u001b[38;5;241m*\u001b[39m\u001b[38;5;241m*\u001b[39mkwargs):\n\u001b[1;32m   1537\u001b[0m \u001b[38;5;250m    \u001b[39m\u001b[38;5;124;03m\"\"\"\u001b[39;00m\n\u001b[1;32m   1538\u001b[0m \u001b[38;5;124;03m    Hessian matrix computed using the outer product of gradients\u001b[39;00m\n\u001b[1;32m   1539\u001b[0m \u001b[38;5;124;03m    information matrix\u001b[39;00m\n\u001b[1;32m   1540\u001b[0m \u001b[38;5;124;03m    \"\"\"\u001b[39;00m\n\u001b[0;32m-> 1541\u001b[0m     \u001b[38;5;28;01mreturn\u001b[39;00m \u001b[38;5;241m-\u001b[39m\u001b[38;5;28;43mself\u001b[39;49m\u001b[38;5;241;43m.\u001b[39;49m\u001b[43mopg_information_matrix\u001b[49m\u001b[43m(\u001b[49m\u001b[43mparams\u001b[49m\u001b[43m,\u001b[49m\u001b[43m \u001b[49m\u001b[38;5;241;43m*\u001b[39;49m\u001b[38;5;241;43m*\u001b[39;49m\u001b[43mkwargs\u001b[49m\u001b[43m)\u001b[49m\n",
      "File \u001b[0;32m~/Documents/cybertraining/venv/lib/python3.12/site-packages/statsmodels/tsa/statespace/mlemodel.py:1228\u001b[0m, in \u001b[0;36mMLEModel.opg_information_matrix\u001b[0;34m(self, params, transformed, includes_fixed, approx_complex_step, **kwargs)\u001b[0m\n\u001b[1;32m   1223\u001b[0m \u001b[38;5;28;01mif\u001b[39;00m \u001b[38;5;129;01mnot\u001b[39;00m transformed \u001b[38;5;129;01mand\u001b[39;00m approx_complex_step:\n\u001b[1;32m   1224\u001b[0m     \u001b[38;5;28;01mraise\u001b[39;00m \u001b[38;5;167;01mValueError\u001b[39;00m(\u001b[38;5;124m\"\u001b[39m\u001b[38;5;124mCannot use complex-step approximations to\u001b[39m\u001b[38;5;124m\"\u001b[39m\n\u001b[1;32m   1225\u001b[0m                      \u001b[38;5;124m\"\u001b[39m\u001b[38;5;124m calculate the observed_information_matrix\u001b[39m\u001b[38;5;124m\"\u001b[39m\n\u001b[1;32m   1226\u001b[0m                      \u001b[38;5;124m\"\u001b[39m\u001b[38;5;124m with untransformed parameters.\u001b[39m\u001b[38;5;124m\"\u001b[39m)\n\u001b[0;32m-> 1228\u001b[0m score_obs \u001b[38;5;241m=\u001b[39m \u001b[38;5;28;43mself\u001b[39;49m\u001b[38;5;241;43m.\u001b[39;49m\u001b[43mscore_obs\u001b[49m\u001b[43m(\u001b[49m\u001b[43mparams\u001b[49m\u001b[43m,\u001b[49m\u001b[43m \u001b[49m\u001b[43mtransformed\u001b[49m\u001b[38;5;241;43m=\u001b[39;49m\u001b[43mtransformed\u001b[49m\u001b[43m,\u001b[49m\n\u001b[1;32m   1229\u001b[0m \u001b[43m                           \u001b[49m\u001b[43mincludes_fixed\u001b[49m\u001b[38;5;241;43m=\u001b[39;49m\u001b[43mincludes_fixed\u001b[49m\u001b[43m,\u001b[49m\n\u001b[1;32m   1230\u001b[0m \u001b[43m                           \u001b[49m\u001b[43mapprox_complex_step\u001b[49m\u001b[38;5;241;43m=\u001b[39;49m\u001b[43mapprox_complex_step\u001b[49m\u001b[43m,\u001b[49m\n\u001b[1;32m   1231\u001b[0m \u001b[43m                           \u001b[49m\u001b[38;5;241;43m*\u001b[39;49m\u001b[38;5;241;43m*\u001b[39;49m\u001b[43mkwargs\u001b[49m\u001b[43m)\u001b[49m\u001b[38;5;241m.\u001b[39mtranspose()\n\u001b[1;32m   1232\u001b[0m \u001b[38;5;28;01mreturn\u001b[39;00m (\n\u001b[1;32m   1233\u001b[0m     np\u001b[38;5;241m.\u001b[39minner(score_obs, score_obs) \u001b[38;5;241m/\u001b[39m\n\u001b[1;32m   1234\u001b[0m     (\u001b[38;5;28mself\u001b[39m\u001b[38;5;241m.\u001b[39mnobs \u001b[38;5;241m-\u001b[39m \u001b[38;5;28mself\u001b[39m\u001b[38;5;241m.\u001b[39mssm\u001b[38;5;241m.\u001b[39mloglikelihood_burn)\n\u001b[1;32m   1235\u001b[0m )\n",
      "File \u001b[0;32m~/Documents/cybertraining/venv/lib/python3.12/site-packages/statsmodels/tsa/statespace/mlemodel.py:1447\u001b[0m, in \u001b[0;36mMLEModel.score_obs\u001b[0;34m(self, params, method, transformed, includes_fixed, approx_complex_step, approx_centered, **kwargs)\u001b[0m\n\u001b[1;32m   1445\u001b[0m     epsilon \u001b[38;5;241m=\u001b[39m _get_epsilon(params, \u001b[38;5;241m2.\u001b[39m, \u001b[38;5;28;01mNone\u001b[39;00m, \u001b[38;5;28mlen\u001b[39m(params))\n\u001b[1;32m   1446\u001b[0m     kwargs[\u001b[38;5;124m'\u001b[39m\u001b[38;5;124mcomplex_step\u001b[39m\u001b[38;5;124m'\u001b[39m] \u001b[38;5;241m=\u001b[39m \u001b[38;5;28;01mTrue\u001b[39;00m\n\u001b[0;32m-> 1447\u001b[0m     score \u001b[38;5;241m=\u001b[39m \u001b[43mapprox_fprime_cs\u001b[49m\u001b[43m(\u001b[49m\u001b[43mparams\u001b[49m\u001b[43m,\u001b[49m\u001b[43m \u001b[49m\u001b[38;5;28;43mself\u001b[39;49m\u001b[38;5;241;43m.\u001b[39;49m\u001b[43mloglikeobs\u001b[49m\u001b[43m,\u001b[49m\u001b[43m \u001b[49m\u001b[43mepsilon\u001b[49m\u001b[38;5;241;43m=\u001b[39;49m\u001b[43mepsilon\u001b[49m\u001b[43m,\u001b[49m\n\u001b[1;32m   1448\u001b[0m \u001b[43m                             \u001b[49m\u001b[43mkwargs\u001b[49m\u001b[38;5;241;43m=\u001b[39;49m\u001b[43mkwargs\u001b[49m\u001b[43m)\u001b[49m\n\u001b[1;32m   1449\u001b[0m \u001b[38;5;28;01melif\u001b[39;00m method \u001b[38;5;241m==\u001b[39m \u001b[38;5;124m'\u001b[39m\u001b[38;5;124mapprox\u001b[39m\u001b[38;5;124m'\u001b[39m:\n\u001b[1;32m   1450\u001b[0m     score \u001b[38;5;241m=\u001b[39m approx_fprime(params, \u001b[38;5;28mself\u001b[39m\u001b[38;5;241m.\u001b[39mloglikeobs, kwargs\u001b[38;5;241m=\u001b[39mkwargs,\n\u001b[1;32m   1451\u001b[0m                           centered\u001b[38;5;241m=\u001b[39mapprox_centered)\n",
      "File \u001b[0;32m~/Documents/cybertraining/venv/lib/python3.12/site-packages/statsmodels/tools/numdiff.py:251\u001b[0m, in \u001b[0;36mapprox_fprime_cs\u001b[0;34m(x, f, epsilon, args, kwargs)\u001b[0m\n\u001b[1;32m    249\u001b[0m increments \u001b[38;5;241m=\u001b[39m np\u001b[38;5;241m.\u001b[39midentity(n) \u001b[38;5;241m*\u001b[39m \u001b[38;5;241m1\u001b[39mj \u001b[38;5;241m*\u001b[39m epsilon\n\u001b[1;32m    250\u001b[0m \u001b[38;5;66;03m# TODO: see if this can be vectorized, but usually dim is small\u001b[39;00m\n\u001b[0;32m--> 251\u001b[0m partials \u001b[38;5;241m=\u001b[39m [\u001b[43mf\u001b[49m\u001b[43m(\u001b[49m\u001b[43mx\u001b[49m\u001b[38;5;241;43m+\u001b[39;49m\u001b[43mih\u001b[49m\u001b[43m,\u001b[49m\u001b[43m \u001b[49m\u001b[38;5;241;43m*\u001b[39;49m\u001b[43margs\u001b[49m\u001b[43m,\u001b[49m\u001b[43m \u001b[49m\u001b[38;5;241;43m*\u001b[39;49m\u001b[38;5;241;43m*\u001b[39;49m\u001b[43mkwargs\u001b[49m\u001b[43m)\u001b[49m\u001b[38;5;241m.\u001b[39mimag \u001b[38;5;241m/\u001b[39m epsilon[i]\n\u001b[1;32m    252\u001b[0m             \u001b[38;5;28;01mfor\u001b[39;00m i, ih \u001b[38;5;129;01min\u001b[39;00m \u001b[38;5;28menumerate\u001b[39m(increments)]\n\u001b[1;32m    254\u001b[0m \u001b[38;5;28;01mreturn\u001b[39;00m np\u001b[38;5;241m.\u001b[39marray(partials)\u001b[38;5;241m.\u001b[39mT\n",
      "File \u001b[0;32m~/Documents/cybertraining/venv/lib/python3.12/site-packages/statsmodels/tsa/statespace/mlemodel.py:987\u001b[0m, in \u001b[0;36mMLEModel.loglikeobs\u001b[0;34m(self, params, transformed, includes_fixed, complex_step, **kwargs)\u001b[0m\n\u001b[1;32m    982\u001b[0m     kwargs[\u001b[38;5;124m'\u001b[39m\u001b[38;5;124minversion_method\u001b[39m\u001b[38;5;124m'\u001b[39m] \u001b[38;5;241m=\u001b[39m INVERT_UNIVARIATE \u001b[38;5;241m|\u001b[39m SOLVE_LU\n\u001b[1;32m    984\u001b[0m \u001b[38;5;28mself\u001b[39m\u001b[38;5;241m.\u001b[39mupdate(params, transformed\u001b[38;5;241m=\u001b[39m\u001b[38;5;28;01mTrue\u001b[39;00m, includes_fixed\u001b[38;5;241m=\u001b[39m\u001b[38;5;28;01mTrue\u001b[39;00m,\n\u001b[1;32m    985\u001b[0m             complex_step\u001b[38;5;241m=\u001b[39mcomplex_step)\n\u001b[0;32m--> 987\u001b[0m \u001b[38;5;28;01mreturn\u001b[39;00m \u001b[38;5;28;43mself\u001b[39;49m\u001b[38;5;241;43m.\u001b[39;49m\u001b[43mssm\u001b[49m\u001b[38;5;241;43m.\u001b[39;49m\u001b[43mloglikeobs\u001b[49m\u001b[43m(\u001b[49m\u001b[43mcomplex_step\u001b[49m\u001b[38;5;241;43m=\u001b[39;49m\u001b[43mcomplex_step\u001b[49m\u001b[43m,\u001b[49m\u001b[43m \u001b[49m\u001b[38;5;241;43m*\u001b[39;49m\u001b[38;5;241;43m*\u001b[39;49m\u001b[43mkwargs\u001b[49m\u001b[43m)\u001b[49m\n",
      "File \u001b[0;32m~/Documents/cybertraining/venv/lib/python3.12/site-packages/statsmodels/tsa/statespace/kalman_filter.py:1068\u001b[0m, in \u001b[0;36mKalmanFilter.loglikeobs\u001b[0;34m(self, **kwargs)\u001b[0m\n\u001b[1;32m   1064\u001b[0m \u001b[38;5;28;01melse\u001b[39;00m:\n\u001b[1;32m   1065\u001b[0m     kwargs\u001b[38;5;241m.\u001b[39msetdefault(\n\u001b[1;32m   1066\u001b[0m         \u001b[38;5;124m'\u001b[39m\u001b[38;5;124mconserve_memory\u001b[39m\u001b[38;5;124m'\u001b[39m,\n\u001b[1;32m   1067\u001b[0m         MEMORY_CONSERVE \u001b[38;5;241m^\u001b[39m (MEMORY_NO_FORECAST \u001b[38;5;241m|\u001b[39m MEMORY_NO_LIKELIHOOD))\n\u001b[0;32m-> 1068\u001b[0m kfilter \u001b[38;5;241m=\u001b[39m \u001b[38;5;28;43mself\u001b[39;49m\u001b[38;5;241;43m.\u001b[39;49m\u001b[43m_filter\u001b[49m\u001b[43m(\u001b[49m\u001b[38;5;241;43m*\u001b[39;49m\u001b[38;5;241;43m*\u001b[39;49m\u001b[43mkwargs\u001b[49m\u001b[43m)\u001b[49m\n\u001b[1;32m   1069\u001b[0m llf_obs \u001b[38;5;241m=\u001b[39m np\u001b[38;5;241m.\u001b[39marray(kfilter\u001b[38;5;241m.\u001b[39mloglikelihood, copy\u001b[38;5;241m=\u001b[39m\u001b[38;5;28;01mTrue\u001b[39;00m)\n\u001b[1;32m   1070\u001b[0m loglikelihood_burn \u001b[38;5;241m=\u001b[39m kwargs\u001b[38;5;241m.\u001b[39mget(\u001b[38;5;124m'\u001b[39m\u001b[38;5;124mloglikelihood_burn\u001b[39m\u001b[38;5;124m'\u001b[39m,\n\u001b[1;32m   1071\u001b[0m                                 \u001b[38;5;28mself\u001b[39m\u001b[38;5;241m.\u001b[39mloglikelihood_burn)\n",
      "File \u001b[0;32m~/Documents/cybertraining/venv/lib/python3.12/site-packages/statsmodels/tsa/statespace/kalman_filter.py:924\u001b[0m, in \u001b[0;36mKalmanFilter._filter\u001b[0;34m(self, filter_method, inversion_method, stability_method, conserve_memory, filter_timing, tolerance, loglikelihood_burn, complex_step)\u001b[0m\n\u001b[1;32m    921\u001b[0m \u001b[38;5;28mself\u001b[39m\u001b[38;5;241m.\u001b[39m_initialize_state(prefix\u001b[38;5;241m=\u001b[39mprefix, complex_step\u001b[38;5;241m=\u001b[39mcomplex_step)\n\u001b[1;32m    923\u001b[0m \u001b[38;5;66;03m# Run the filter\u001b[39;00m\n\u001b[0;32m--> 924\u001b[0m \u001b[43mkfilter\u001b[49m\u001b[43m(\u001b[49m\u001b[43m)\u001b[49m\n\u001b[1;32m    926\u001b[0m \u001b[38;5;28;01mreturn\u001b[39;00m kfilter\n",
      "\u001b[0;31mKeyboardInterrupt\u001b[0m: "
     ]
    }
   ],
   "source": [
    "# evaluate an ARIMA model using a walk-forward validation.\n",
    "# this looks more like a simulation than a prediction, it's slow though very slow.\n",
    "# there should be a better way to do this.\n",
    "# it's basically fiting model everytime new observation is made and making prediction for next hour\n",
    "# it's using all previous values for fitting data which makes it very slow\n",
    "\n",
    "\n",
    "from pandas import read_csv\n",
    "from datetime import datetime\n",
    "from matplotlib import pyplot\n",
    "from statsmodels.tsa.arima.model import ARIMA\n",
    "from sklearn.metrics import mean_squared_error\n",
    "from math import sqrt\n",
    "# load dataset\n",
    "\n",
    "    \n",
    "series = read_csv('../dataset/chattahoochee_1hr_02336490.csv', usecols=['DATE', 'gaze_height'], header=0, index_col='DATE')\n",
    "# split into train and test sets\n",
    "X = series.values\n",
    "size = int(len(X) * 0.66)\n",
    "train, test = X[0:size], X[size:len(X)]\n",
    "history = [x for x in train]\n",
    "predictions = list()\n",
    "\n",
    "# walk-forward validation\n",
    "for t in range(len(test)):\n",
    " model = ARIMA(history, order=(5,1,0))\n",
    " model_fit = model.fit()\n",
    " output = model_fit.forecast()\n",
    " yhat = output[0]\n",
    " predictions.append(yhat)\n",
    " obs = test[t]\n",
    " history.append(obs)\n",
    " print('predicted=%f, expected=%f' % (yhat, obs))\n",
    "# evaluate forecasts\n",
    "\n",
    "\n",
    "rmse = sqrt(mean_squared_error(test, predictions))\n",
    "print('Test RMSE: %.3f' % rmse)\n",
    "# plot forecasts against actual outcomes\n",
    "pyplot.plot(test)\n",
    "pyplot.plot(predictions, color='red')\n",
    "pyplot.show()"
   ]
  },
  {
   "cell_type": "code",
   "execution_count": 66,
   "id": "a867abd0-ec58-4a96-a82c-b63a166a07ef",
   "metadata": {},
   "outputs": [
    {
     "data": {
      "text/plain": [
       "datetime.datetime(2010, 1, 1, 5, 0)"
      ]
     },
     "execution_count": 66,
     "metadata": {},
     "output_type": "execute_result"
    }
   ],
   "source": [
    "from datetime import datetime\n",
    "d = datetime.now()\n",
    "datetime.strptime(df['DATE'][5][:13], '%Y-%m-%d %H')"
   ]
  },
  {
   "cell_type": "code",
   "execution_count": 50,
   "id": "ad2f226c-6b23-4cfc-8e59-5638eb90eef4",
   "metadata": {
    "scrolled": true
   },
   "outputs": [
    {
     "ename": "ValueError",
     "evalue": "unconverted data remains: :04:45.729891",
     "output_type": "error",
     "traceback": [
      "\u001b[0;31m---------------------------------------------------------------------------\u001b[0m",
      "\u001b[0;31mValueError\u001b[0m                                Traceback (most recent call last)",
      "Cell \u001b[0;32mIn[50], line 1\u001b[0m\n\u001b[0;32m----> 1\u001b[0m \u001b[43mdatetime\u001b[49m\u001b[38;5;241;43m.\u001b[39;49m\u001b[43mstrptime\u001b[49m\u001b[43m(\u001b[49m\u001b[38;5;28;43mstr\u001b[39;49m\u001b[43m(\u001b[49m\u001b[43md\u001b[49m\u001b[43m)\u001b[49m\u001b[43m,\u001b[49m\u001b[43m \u001b[49m\u001b[38;5;124;43m'\u001b[39;49m\u001b[38;5;124;43m%\u001b[39;49m\u001b[38;5;124;43mY-\u001b[39;49m\u001b[38;5;124;43m%\u001b[39;49m\u001b[38;5;124;43mm-\u001b[39;49m\u001b[38;5;132;43;01m%d\u001b[39;49;00m\u001b[38;5;124;43m \u001b[39;49m\u001b[38;5;124;43m%\u001b[39;49m\u001b[38;5;124;43mH\u001b[39;49m\u001b[38;5;124;43m'\u001b[39;49m\u001b[43m)\u001b[49m\n",
      "File \u001b[0;32m/usr/local/Cellar/python@3.12/3.12.2_1/Frameworks/Python.framework/Versions/3.12/lib/python3.12/_strptime.py:554\u001b[0m, in \u001b[0;36m_strptime_datetime\u001b[0;34m(cls, data_string, format)\u001b[0m\n\u001b[1;32m    551\u001b[0m \u001b[38;5;28;01mdef\u001b[39;00m \u001b[38;5;21m_strptime_datetime\u001b[39m(\u001b[38;5;28mcls\u001b[39m, data_string, \u001b[38;5;28mformat\u001b[39m\u001b[38;5;241m=\u001b[39m\u001b[38;5;124m\"\u001b[39m\u001b[38;5;132;01m%a\u001b[39;00m\u001b[38;5;124m \u001b[39m\u001b[38;5;124m%\u001b[39m\u001b[38;5;124mb \u001b[39m\u001b[38;5;132;01m%d\u001b[39;00m\u001b[38;5;124m \u001b[39m\u001b[38;5;124m%\u001b[39m\u001b[38;5;124mH:\u001b[39m\u001b[38;5;124m%\u001b[39m\u001b[38;5;124mM:\u001b[39m\u001b[38;5;124m%\u001b[39m\u001b[38;5;124mS \u001b[39m\u001b[38;5;124m%\u001b[39m\u001b[38;5;124mY\u001b[39m\u001b[38;5;124m\"\u001b[39m):\n\u001b[1;32m    552\u001b[0m \u001b[38;5;250m    \u001b[39m\u001b[38;5;124;03m\"\"\"Return a class cls instance based on the input string and the\u001b[39;00m\n\u001b[1;32m    553\u001b[0m \u001b[38;5;124;03m    format string.\"\"\"\u001b[39;00m\n\u001b[0;32m--> 554\u001b[0m     tt, fraction, gmtoff_fraction \u001b[38;5;241m=\u001b[39m \u001b[43m_strptime\u001b[49m\u001b[43m(\u001b[49m\u001b[43mdata_string\u001b[49m\u001b[43m,\u001b[49m\u001b[43m \u001b[49m\u001b[38;5;28;43mformat\u001b[39;49m\u001b[43m)\u001b[49m\n\u001b[1;32m    555\u001b[0m     tzname, gmtoff \u001b[38;5;241m=\u001b[39m tt[\u001b[38;5;241m-\u001b[39m\u001b[38;5;241m2\u001b[39m:]\n\u001b[1;32m    556\u001b[0m     args \u001b[38;5;241m=\u001b[39m tt[:\u001b[38;5;241m6\u001b[39m] \u001b[38;5;241m+\u001b[39m (fraction,)\n",
      "File \u001b[0;32m/usr/local/Cellar/python@3.12/3.12.2_1/Frameworks/Python.framework/Versions/3.12/lib/python3.12/_strptime.py:336\u001b[0m, in \u001b[0;36m_strptime\u001b[0;34m(data_string, format)\u001b[0m\n\u001b[1;32m    333\u001b[0m     \u001b[38;5;28;01mraise\u001b[39;00m \u001b[38;5;167;01mValueError\u001b[39;00m(\u001b[38;5;124m\"\u001b[39m\u001b[38;5;124mtime data \u001b[39m\u001b[38;5;132;01m%r\u001b[39;00m\u001b[38;5;124m does not match format \u001b[39m\u001b[38;5;132;01m%r\u001b[39;00m\u001b[38;5;124m\"\u001b[39m \u001b[38;5;241m%\u001b[39m\n\u001b[1;32m    334\u001b[0m                      (data_string, \u001b[38;5;28mformat\u001b[39m))\n\u001b[1;32m    335\u001b[0m \u001b[38;5;28;01mif\u001b[39;00m \u001b[38;5;28mlen\u001b[39m(data_string) \u001b[38;5;241m!=\u001b[39m found\u001b[38;5;241m.\u001b[39mend():\n\u001b[0;32m--> 336\u001b[0m     \u001b[38;5;28;01mraise\u001b[39;00m \u001b[38;5;167;01mValueError\u001b[39;00m(\u001b[38;5;124m\"\u001b[39m\u001b[38;5;124munconverted data remains: \u001b[39m\u001b[38;5;132;01m%s\u001b[39;00m\u001b[38;5;124m\"\u001b[39m \u001b[38;5;241m%\u001b[39m\n\u001b[1;32m    337\u001b[0m                       data_string[found\u001b[38;5;241m.\u001b[39mend():])\n\u001b[1;32m    339\u001b[0m iso_year \u001b[38;5;241m=\u001b[39m year \u001b[38;5;241m=\u001b[39m \u001b[38;5;28;01mNone\u001b[39;00m\n\u001b[1;32m    340\u001b[0m month \u001b[38;5;241m=\u001b[39m day \u001b[38;5;241m=\u001b[39m \u001b[38;5;241m1\u001b[39m\n",
      "\u001b[0;31mValueError\u001b[0m: unconverted data remains: :04:45.729891"
     ]
    }
   ],
   "source": []
  },
  {
   "cell_type": "code",
   "execution_count": 51,
   "id": "51a4381b-2340-4e90-a8f0-01023b318ab4",
   "metadata": {},
   "outputs": [
    {
     "data": {
      "text/plain": [
       "datetime.datetime(2024, 8, 20, 16, 4, 45, 729891)"
      ]
     },
     "execution_count": 51,
     "metadata": {},
     "output_type": "execute_result"
    }
   ],
   "source": [
    "d"
   ]
  },
  {
   "cell_type": "code",
   "execution_count": 67,
   "id": "ccdf62a5-c829-452c-970f-1a10825d993b",
   "metadata": {},
   "outputs": [
    {
     "data": {
      "text/plain": [
       "datetime.datetime(2024, 8, 20, 16, 0)"
      ]
     },
     "execution_count": 67,
     "metadata": {},
     "output_type": "execute_result"
    }
   ],
   "source": [
    "def parse_datetime(date_str):\n",
    "    # Parse the full datetime string including hours, minutes, seconds, and microseconds\n",
    "    full_date = datetime.strptime(date_str, '%Y-%m-%d %H:%M:%S.%f')\n",
    "    \n",
    "    # Zero out the minutes, seconds, and microseconds\n",
    "    adjusted_date = full_date.replace(minute=0, second=0, microsecond=0)\n",
    "    \n",
    "    return adjusted_date\n",
    "\n",
    "parse_datetime(str(d))"
   ]
  },
  {
   "cell_type": "code",
   "execution_count": 70,
   "id": "1672b61f-2216-4228-9135-ab9b9877a9ff",
   "metadata": {},
   "outputs": [
    {
     "data": {
      "text/plain": [
       "Series([], Name: DATE, dtype: object)"
      ]
     },
     "execution_count": 70,
     "metadata": {},
     "output_type": "execute_result"
    }
   ],
   "source": [
    "df['DATE'][df['DATE']=='13.37']"
   ]
  },
  {
   "cell_type": "code",
   "execution_count": 99,
   "id": "dc3d142a-f119-42cc-be92-5692f00e8ac3",
   "metadata": {},
   "outputs": [
    {
     "data": {
      "image/png": "[encoded data removed]",
      "text/plain": [
       "<Figure size 640x480 with 1 Axes>"
      ]
     },
     "metadata": {},
     "output_type": "display_data"
    },
    {
     "name": "stdout",
     "output_type": "stream",
     "text": [
      "(125573,)\n"
     ]
    },
    {
     "data": {
      "image/png": "[encoded data removed]",
      "text/plain": [
       "<Figure size 640x480 with 1 Axes>"
      ]
     },
     "metadata": {},
     "output_type": "display_data"
    },
    {
     "data": {
      "image/png": "[encoded data removed]",
      "text/plain": [
       "<Figure size 640x480 with 1 Axes>"
      ]
     },
     "metadata": {},
     "output_type": "display_data"
    }
   ],
   "source": [
    "y = np.array(df['gaze_height']).flatten()\n",
    "acr_plot(y)\n",
    "plt.show()\n",
    "first_diff = difference(y)\n",
    "print(first_diff.shape)\n",
    "acr_plot(first_diff)\n",
    "plt.show()\n",
    "second_diff = difference(first_diff)\n",
    "acr_plot(second_diff)\n",
    "plt.show()"
   ]
  },
  {
   "cell_type": "code",
   "execution_count": 90,
   "id": "9f8f5112-4aba-4491-b592-28703df9301b",
   "metadata": {},
   "outputs": [],
   "source": [
    "def difference(series):\n",
    "    new_series = []\n",
    "    prev = series[0]\n",
    "    for nextv in series[1:]:\n",
    "        new_series.append(nextv-prev)\n",
    "        prev = nextv\n",
    "    return np.array(new_series)"
   ]
  },
  {
   "cell_type": "code",
   "execution_count": 82,
   "id": "76dfc806-1887-44ef-ba53-717a945a187d",
   "metadata": {},
   "outputs": [
    {
     "data": {
      "text/plain": [
       "np.float64(0.040000000000000924)"
      ]
     },
     "execution_count": 82,
     "metadata": {},
     "output_type": "execute_result"
    }
   ],
   "source": [
    "(y[1] - y[0])[0]"
   ]
  },
  {
   "cell_type": "code",
   "execution_count": 83,
   "id": "329412c0-5dbe-49cf-8d00-1fd39aedff25",
   "metadata": {},
   "outputs": [
    {
     "data": {
      "text/plain": [
       "(125574, 1)"
      ]
     },
     "execution_count": 83,
     "metadata": {},
     "output_type": "execute_result"
    }
   ],
   "source": [
    "y.shape"
   ]
  },
  {
   "cell_type": "code",
   "execution_count": 84,
   "id": "8c8b02a0-1bcc-4690-9c74-2bf347bcb9e5",
   "metadata": {},
   "outputs": [
    {
     "ename": "NameError",
     "evalue": "name 'first_diff' is not defined",
     "output_type": "error",
     "traceback": [
      "\u001b[0;31m---------------------------------------------------------------------------\u001b[0m",
      "\u001b[0;31mNameError\u001b[0m                                 Traceback (most recent call last)",
      "Cell \u001b[0;32mIn[84], line 1\u001b[0m\n\u001b[0;32m----> 1\u001b[0m \u001b[43mfirst_diff\u001b[49m\u001b[38;5;241m.\u001b[39mshape\n",
      "\u001b[0;31mNameError\u001b[0m: name 'first_diff' is not defined"
     ]
    }
   ],
   "source": [
    "first_diff.shape"
   ]
  },
  {
   "cell_type": "code",
   "execution_count": 98,
   "id": "4b454731-d120-4ccb-9fd0-c3f313f12220",
   "metadata": {},
   "outputs": [
    {
     "data": {
      "text/plain": [
       "(125574,)"
      ]
     },
     "execution_count": 98,
     "metadata": {},
     "output_type": "execute_result"
    }
   ],
   "source": [
    "np.array(y).flatten().shape"
   ]
  },
  {
   "cell_type": "code",
   "execution_count": null,
   "id": "d4df073c-5715-46e4-ac8e-9b99ffcf7f87",
   "metadata": {},
   "outputs": [],
   "source": []
  }
 ],
 "metadata": {
  "kernelspec": {
   "display_name": "Python 3 (ipykernel)",
   "language": "python",
   "name": "python3"
  },
  "language_info": {
   "codemirror_mode": {
    "name": "ipython",
    "version": 3
   },
   "file_extension": ".py",
   "mimetype": "text/x-python",
   "name": "python",
   "nbconvert_exporter": "python",
   "pygments_lexer": "ipython3",
   "version": "3.12.2"
  }
 },
 "nbformat": 4,
 "nbformat_minor": 5
}
