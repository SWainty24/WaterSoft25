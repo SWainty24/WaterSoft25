{
 "cells": [
  {
   "cell_type": "markdown",
   "id": "41ac9729-a006-4baf-a59b-a3a1bdd2ebfd",
   "metadata": {},
   "source": [
    "### Before you use the code\n",
    "\n",
    "You need to install a python package called `pykalman`\\\n",
    "`pip install pykalman`\n",
    "\n",
    "Don't use the algorithm on large amount of data.\n",
    "If you want to use it, partition data into small chunks with values on\n",
    "both sides of the gap and run the partitions individually, and the merge\n",
    "them back."
   ]
  },
  {
   "cell_type": "code",
   "execution_count": null,
   "id": "ae9502d5-7224-4702-8ed5-040732cb2349",
   "metadata": {},
   "outputs": [],
   "source": [
    "import numpy as np\n",
    "import pandas as pd\n",
    "from pykalman import KalmanFilter\n",
    "\n",
    "# Read the data into a pandas dataframe\n",
    "df = pd.read_csv('data_gaps.csv')\n",
    "\n",
    "# Extract the 'HourlyAltimeterSetting' column and convert to numpy array\n",
    "Qobs = df['HourlyAltimeterSetting'].to_numpy()\n",
    "\n",
    "# Mask the NaN values\n",
    "Qobs_masked = np.ma.masked_invalid(Qobs)\n",
    "\n",
    "print('Before filling the gaps: \\n', Qobs_masked)\n",
    "\n",
    "# Define the Kalman Filter parameters for a 1-dimensional time series\n",
    "transition_matrices = [1]  # State transition matrix (1D)\n",
    "observation_matrices = [1]  # Observation matrix (1D)\n",
    "\n",
    "# Estimate the process and observation covariances\n",
    "# Use a small value if variance can't be computed due to masked data\n",
    "if np.ma.var(Qobs_masked):\n",
    "    observation_covariance = np.ma.var(Qobs_masked)\n",
    "else:\n",
    "    observation_covariance = 1e-3  # Small value to prevent errors\n",
    "\n",
    "transition_covariance = observation_covariance  # Assuming same as observation covariance\n",
    "\n",
    "# Initialize the Kalman Filter\n",
    "kf = KalmanFilter(\n",
    "    transition_matrices=transition_matrices,\n",
    "    observation_matrices=observation_matrices,\n",
    "    transition_covariance=transition_covariance,\n",
    "    observation_covariance=observation_covariance,\n",
    "    initial_state_mean=Qobs_masked[~Qobs_masked.mask][0],  # First valid observation\n",
    "    initial_state_covariance=1\n",
    ")\n",
    "\n",
    "# Use EM algorithm to estimate parameters\n",
    "kf = kf.em(Qobs_masked, n_iter=10)\n",
    "\n",
    "# Perform Kalman smoothing\n",
    "smoothed_state_means, smoothed_state_covariances = kf.smooth(Qobs_masked)\n",
    "\n",
    "# Replace the missing values with the smoothed estimates\n",
    "Qobs_filled = Qobs.copy()\n",
    "Qobs_filled[np.isnan(Qobs_filled)] = smoothed_state_means[np.isnan(Qobs_filled)].flatten()\n",
    "\n",
    "print('Predicted values: \\n', smoothed_state_means)\n",
    "print('Data after filling the gaps: \\n', Qobs_filled)\n"
   ]
  },
  {
   "cell_type": "code",
   "execution_count": null,
   "id": "7972e771-5291-4056-b8c3-758219db0e2a",
   "metadata": {},
   "outputs": [],
   "source": []
  }
 ],
 "metadata": {
  "kernelspec": {
   "display_name": "Python 3 (ipykernel)",
   "language": "python",
   "name": "python3"
  },
  "language_info": {
   "codemirror_mode": {
    "name": "ipython",
    "version": 3
   },
   "file_extension": ".py",
   "mimetype": "text/x-python",
   "name": "python",
   "nbconvert_exporter": "python",
   "pygments_lexer": "ipython3",
   "version": "3.12.6"
  }
 },
 "nbformat": 4,
 "nbformat_minor": 5
}
