{
 "cells": [
  {
   "cell_type": "code",
   "execution_count": 22,
   "id": "a713a7dd-3d53-40e1-9916-f9a4f554d641",
   "metadata": {},
   "outputs": [
    {
     "name": "stdout",
     "output_type": "stream",
     "text": [
      "[np.float64(4.827291383215597), np.float64(5.126561779209142), np.float64(5.305024302204709), np.float64(5.390983235554284), np.float64(5.409460800051719), np.float64(5.386113602631058), np.float64(5.345001484773385), np.float64(5.303186357174065), np.float64(5.269674772529316), np.float64(5.247462482589221), np.float64(5.235874247910829), np.float64(5.232386398436852), np.float64(5.233967995044298), np.float64(5.237941316243403), np.float64(5.242377465793704), np.float64(5.246147544715476), np.float64(5.248783204297472), np.float64(5.250266801908838), np.float64(5.2508263896647245), np.float64(5.250774882344719)]\n",
      "[4.8  5.04 5.14 5.17 5.13 5.04 4.96 4.89 4.79 4.64 4.54 4.46 4.41 4.33\n",
      " 4.24 4.13 4.04 3.98 3.94 3.9 ]\n",
      "Test RMSE: 2.765\n",
      "Test NSE: -0.051\n"
     ]
    }
   ],
   "source": [
    "import numpy as np\n",
    "import pandas as pd\n",
    "from statsmodels.tsa.arima.model import ARIMA\n",
    "from sklearn.metrics import mean_squared_error\n",
    "\n",
    "series = pd.read_csv('../dataset/chattahoochee_1hr_02336490.csv', usecols=['DATE', 'gaze_height'], header=0, index_col='DATE')\n",
    "series = series[:10000]\n",
    "\n",
    "X = series.values\n",
    "size = int(len(X) * 0.66)\n",
    "train, test = X[0:size], X[size:len(X)]\n",
    "\n",
    "batch_size = 1000  # Number of steps to predict in each batch\n",
    "predictions = []\n",
    "\n",
    "# Initial model fitting\n",
    "model = ARIMA(train, order=(5, 1, 0))\n",
    "model_fit = model.fit()\n",
    "\n",
    "# Walk-forward validation with batch forecasting\n",
    "for i in range(0, len(test), batch_size):\n",
    "    # Forecast a batch of steps\n",
    "    end_index = min(i + batch_size, len(test))\n",
    "    prediction = model_fit.forecast(steps=end_index - i)\n",
    "    \n",
    "    # Store predictions\n",
    "    predictions.extend(prediction)\n",
    "    \n",
    "    # Update the model with new data\n",
    "    history = np.concatenate([train, test[:end_index]])\n",
    "    model = ARIMA(history, order=(5,1,0))\n",
    "    model_fit = model.fit()\n",
    "\n",
    "# Evaluate performance\n",
    "error = mean_squared_error(test, predictions[:len(test)])\n",
    "nse_val = NSE(predictions[:len(test)], test.flatten())\n",
    "print(f'Test RMSE: {error:.3f}')\n",
    "print(f'Test NSE: {nse_val:.3f}')\n"
   ]
  },
  {
   "cell_type": "code",
   "execution_count": 20,
   "id": "6dd0c973-0d8c-4d74-8961-856d1837ab9a",
   "metadata": {},
   "outputs": [],
   "source": [
    "def NSE(y_pred, y):\n",
    "    print(y_pred[:20])\n",
    "    print(y[:20])\n",
    "    return (1-(np.sum((y_pred-y)**2)/np.sum((y-np.mean(y))**2)))"
   ]
  },
  {
   "cell_type": "code",
   "execution_count": null,
   "id": "dd2c7f34-fa03-4849-aebf-d59814552f5a",
   "metadata": {},
   "outputs": [],
   "source": []
  }
 ],
 "metadata": {
  "kernelspec": {
   "display_name": "Python 3 (ipykernel)",
   "language": "python",
   "name": "python3"
  },
  "language_info": {
   "codemirror_mode": {
    "name": "ipython",
    "version": 3
   },
   "file_extension": ".py",
   "mimetype": "text/x-python",
   "name": "python",
   "nbconvert_exporter": "python",
   "pygments_lexer": "ipython3",
   "version": "3.11.2"
  }
 },
 "nbformat": 4,
 "nbformat_minor": 5
}
