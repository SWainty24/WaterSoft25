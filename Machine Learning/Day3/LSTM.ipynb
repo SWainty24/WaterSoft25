{
 "cells": [
  {
   "cell_type": "markdown",
   "id": "9ccae883-1904-48a6-81b3-d0228caeab1f",
   "metadata": {},
   "source": [
    "## Multivariate time series prediction using Long Short Term Memory (LSTM)\n",
    "\n",
    "### Theory of Recurrent Neural Network (RNN)\n",
    "\n",
    "The most important difference between RNN and Fully Connected Network(FCN) is that RNN does sequential processing of input data and maintains a hidden state.\n",
    "The hidden state is updated for each sequence input. When we train the model, it learns how to update the hidden state in the best possible way such that it can be used to predict the next value in the sequence. Basic example:\n",
    "\n",
    "### Let's consider a network that learns to count the number of 1's in a binary sequence.\n",
    "\n",
    "So, in an FCN, we feed the entire binary sequence at once, e.g. 1, 0, 1, 1 is fed at once, and it multiplies with a weight matrix of a 4x4 matrix and the computes flows forward.\n",
    "\n",
    "But, in a LSTM, \n",
    "- Model first takes 1 and an initial hidden state h which is normally assigned to be 0, updates the hidden state h,\n",
    "- Then takes 0 and h and updates hidden state h,\n",
    "- Then takes 1 and h updates hidden state h,\n",
    "- Also finally takes 1 and h and updates the hidden state h.\n",
    "\n",
    "  This final h value is used to predict the number of 1's in the binary sequence. Normally this h is passed through a fully connected layer to get the required final output.\n",
    "\n",
    "Mathematically,\n",
    "\n",
    "$$ h_t = W_{xh}x_t + b_t + W_{hh} h_{t-1} + b_h $$\n",
    "\n",
    "Final output is calculated as\n",
    "$$ y_t = h_t W_{hy}^T + b_y $$\n",
    "\n",
    "Here is a PyTorch implementation of an LSTM neural network which has 1 LSTM layer and 1 fully connected layer.\n",
    "\n",
    "\n",
    "### LSTM\n",
    "\n",
    "LSTM is basically an RNN where the way we calculate the hidden state is more advanced and involves multiple equations. In practice, LSTM has been implemented in different time series modeling applications. Pytorch implementation of LSTM uses the following equations in each layer.\n",
    "\n",
    "We initialize the $h_{t-1}$ and $c_{t-1}$ to zeros in every forward pass\n",
    "$$\\begin{array}{ll} \\\\\n",
    "         Input Gate:   i_t = \\sigma(W_{ii} x_t + b_{ii} + W_{hi} h_{t-1} + b_{hi}) \\\\\n",
    "         Forget Gate:   f_t = \\sigma(W_{if} x_t + b_{if} + W_{hf} h_{t-1} + b_{hf}) \\\\\n",
    "         Candidate Cell State:   g_t = \\tanh(W_{ig} x_t + b_{ig} + W_{hg} h_{t-1} + b_{hg}) \\\\\n",
    "         Output Gate:   o_t = \\sigma(W_{io} x_t + b_{io} + W_{ho} h_{t-1} + b_{ho}) \\\\\n",
    "         Cell State Update:   c_t = f_t \\odot c_{t-1} + i_t \\odot g_t \\\\\n",
    "         Hidden State:   h_t = o_t \\odot \\tanh(c_t) \\\\\n",
    "        \\end{array}$$\n",
    "\n"
   ]
  },
  {
   "cell_type": "code",
   "execution_count": 1,
   "id": "4117e9d0-7925-4788-bbe1-28c60c80bb56",
   "metadata": {},
   "outputs": [],
   "source": [
    "import torch\n",
    "import numpy as np\n",
    "\n",
    "import pandas as pd\n",
    "from sklearn.preprocessing import MinMaxScaler\n"
   ]
  },
  {
   "cell_type": "code",
   "execution_count": 2,
   "id": "8af4f85b-3822-4288-9566-0f0ac0cfa053",
   "metadata": {},
   "outputs": [],
   "source": [
    "path = 'final_data.csv'"
   ]
  },
  {
   "cell_type": "code",
   "execution_count": 3,
   "id": "fc9eb646-4308-449c-84c0-00cd1de182c2",
   "metadata": {},
   "outputs": [
    {
     "name": "stdout",
     "output_type": "stream",
     "text": [
      "Using device: cuda\n"
     ]
    }
   ],
   "source": [
    "device = torch.device('cuda' if torch.cuda.is_available() else 'cpu')\n",
    "print(f'Using device: {device}')\n",
    "\n",
    "# Implement determinism. Set a fixed value for random seed so that when the parameters are initialized, they are initialized same across all experiments.\n",
    "torch.manual_seed(42)\n",
    "\n",
    "# If you are using CUDA, also set the seed for it\n",
    "if torch.cuda.is_available():\n",
    "    torch.cuda.manual_seed(42)\n",
    "    torch.cuda.manual_seed_all(42)\n",
    "\n",
    "# Set the seed for NumPy\n",
    "np.random.seed(42)"
   ]
  },
  {
   "cell_type": "markdown",
   "id": "0600e784-ec1c-4ab8-ab6b-9b765b4dee83",
   "metadata": {},
   "source": [
    "Here we define **RiverData** a custom Dataset class to load the dataset we have. It extends the Pytorch Dataset class.  \n",
    "- We need to define \\_\\_init__() function which can be used for loading data from the file and optionally for data preprocessing.\n",
    "- Thereafter we define \\_\\_len__() function which gives the length of dataset.\n",
    "- Then we define \\_\\_getitem__() function which returns an instance of (feature, label) tuple which can be used for model training.\n",
    "  For our time series data, feature means the past values to be used for training and label means the future values to be predicted."
   ]
  },
  {
   "cell_type": "code",
   "execution_count": 4,
   "id": "742b694d-9966-4fd3-bca7-51f398a8775f",
   "metadata": {},
   "outputs": [],
   "source": [
    "class RiverData(torch.utils.data.Dataset):\n",
    "    \n",
    "    def __init__(self, df, target, datecol, seq_len, pred_len):\n",
    "        self.df = df\n",
    "        self.datecol = datecol\n",
    "        self.target = target\n",
    "        self.seq_len = seq_len\n",
    "        self.pred_len = pred_len\n",
    "        self.setIndex()\n",
    "        \n",
    "\n",
    "    def setIndex(self):\n",
    "        self.df.set_index(self.datecol, inplace=True)\n",
    "    \n",
    "\n",
    "    def __len__(self):\n",
    "        return len(self.df) - self.seq_len - self.pred_len\n",
    "\n",
    "\n",
    "    def __getitem__(self, idx):\n",
    "        if len(self.df) <= (idx + self.seq_len+self.pred_len):\n",
    "            raise IndexError(f\"Index {idx} is out of bounds for dataset of size {len(self.df)}\")\n",
    "        df_piece = self.df[idx:idx+self.seq_len].values\n",
    "        feature = torch.tensor(df_piece, dtype=torch.float32)\n",
    "        label_piece = self.df[self.target][idx + self.seq_len:  idx+self.seq_len+self.pred_len].values\n",
    "        label = torch.tensor(label_piece, dtype=torch.float32)\n",
    "        return (feature, label) "
   ]
  },
  {
   "cell_type": "markdown",
   "id": "60c24959-e72f-435d-8a14-69a648fa5ab1",
   "metadata": {},
   "source": [
    "### Normalize the data"
   ]
  },
  {
   "cell_type": "code",
   "execution_count": 5,
   "id": "46d897d9-946e-4bbe-90a6-cc8d8a223c3f",
   "metadata": {},
   "outputs": [],
   "source": [
    "df = pd.read_csv(path)\n",
    "raw_df = df.drop('DATE', axis=1, inplace=False)\n",
    "scaler = MinMaxScaler()\n",
    "\n",
    "# Apply the transformations\n",
    "df_scaled = scaler.fit_transform(raw_df)\n",
    "\n",
    "df_scaled = pd.DataFrame(df_scaled, columns=raw_df.columns)\n",
    "df_scaled['DATE'] = df['DATE']\n",
    "df = df_scaled"
   ]
  },
  {
   "cell_type": "markdown",
   "id": "3a4781c6-88ed-4b28-aa0e-f669bf7c75f5",
   "metadata": {},
   "source": [
    "Some advanced Python syntax has been used here. \\\n",
    "*common_args : it's used to pass arguments to a function, where common_args represents a python list \\\n",
    "**common_args: it's used to pass arguments to a function, where common_args represents a python dictionary"
   ]
  },
  {
   "cell_type": "code",
   "execution_count": 6,
   "id": "9e63a535-a817-4429-be17-f3e3a02e4f73",
   "metadata": {},
   "outputs": [],
   "source": [
    "\n",
    "train_size = int(0.7 * len(df))\n",
    "test_size = int(0.2 * len(df))\n",
    "val_size = len(df) - train_size - test_size\n",
    "\n",
    "seq_len = 13\n",
    "pred_len = 1\n",
    "num_features = 7\n",
    "\n",
    "common_args = ['gauge_height', 'DATE', seq_len, pred_len]\n",
    "train_dataset = RiverData(df[:train_size], *common_args)\n",
    "val_dataset = RiverData(df[train_size: train_size+val_size], *common_args)\n",
    "test_dataset = RiverData(df[train_size+val_size : len(df)], *common_args)\n"
   ]
  },
  {
   "cell_type": "code",
   "execution_count": 7,
   "id": "501879b1-dd1c-4ff0-afb3-ff25a345df05",
   "metadata": {},
   "outputs": [],
   "source": [
    "# Important parameters\n",
    "\n",
    "BATCH_SIZE = 512 # keep as big as can be handled by GPU and memory\n",
    "SHUFFLE = False # we don't shuffle the time series data\n",
    "DATA_LOAD_WORKERS = 1 # it depends on the amount of data you need to load\n",
    "learning_rate = 0.001029\n",
    "weight_decay = 0.00025039\n"
   ]
  },
  {
   "cell_type": "code",
   "execution_count": 8,
   "id": "ae359aec-9435-4229-8587-5f120b0370b3",
   "metadata": {},
   "outputs": [],
   "source": [
    "from torch.utils.data import DataLoader\n",
    "\n",
    "common_args = {'batch_size': BATCH_SIZE, 'shuffle': SHUFFLE}\n",
    "train_loader = DataLoader(train_dataset, **common_args)\n",
    "val_loader = DataLoader(val_dataset, **common_args)\n",
    "test_loader = DataLoader(test_dataset, **common_args)"
   ]
  },
  {
   "cell_type": "markdown",
   "id": "bc7ac35c-8ecc-4ab7-a97c-0cb4d59bc624",
   "metadata": {},
   "source": [
    "### Here we define our PyTorch model.\n",
    "\n",
    "BasicLSTMNetwork is the model class, it extends the Module class provided by pytorch. \\\n",
    "- We define \\_\\_init__() function. It sets up layers and defines the model parameters.\n",
    "- Also, we define forward() function which defines how the forwared pass computation occurs"
   ]
  },
  {
   "cell_type": "code",
   "execution_count": 9,
   "id": "01cd8d0d-2058-4dfe-9046-78cde5fd2f58",
   "metadata": {},
   "outputs": [],
   "source": [
    "class BasicLSTMNetwork(torch.nn.Module):\n",
    "    \n",
    "    def __init__(self, seq_len, pred_len):\n",
    "        # call the constructor of the base class\n",
    "        super().__init__()\n",
    "        self.seq_len = seq_len\n",
    "        self.pred_len = pred_len\n",
    "        self.num_features = num_features\n",
    "        self.n_layers = 1\n",
    "        \n",
    "        self.n_hidden = 128\n",
    "        \n",
    "        # define layers for combining across time series\n",
    "        self.lstm1 = torch.nn.LSTM(input_size = self.num_features, hidden_size = self.n_hidden, num_layers=self.n_layers, batch_first = True)\n",
    "        self.relu = torch.nn.ReLU()\n",
    "        self.fc1 = torch.nn.Linear(self.n_hidden * self.seq_len, self.pred_len)\n",
    "\n",
    "\n",
    "    def init_hidden(self, batchsize):\n",
    "        device = next(self.parameters()).device\n",
    "        hidden_state = torch.zeros(self.n_layers, batchsize, self.n_hidden, device=device)\n",
    "        cell_state = torch.zeros(self.n_layers, batchsize, self.n_hidden, device=device)\n",
    "        return hidden_state, cell_state\n",
    "\n",
    "    \n",
    "    def forward(self, x):\n",
    "        batchsize, seqlen, featlen = x.size()\n",
    "        self.hidden_states = self.init_hidden(batchsize)\n",
    "        lstm_out, self.hidden_states = self.lstm1(x, self.hidden_states)\n",
    "        lstm_out = lstm_out.contiguous().view(batchsize, -1)\n",
    "        lstm_out = self.relu(lstm_out)\n",
    "        lstm_out = self.fc1(lstm_out)\n",
    "        return lstm_out\n",
    "# Note that the gradients are stored insize the FC layer objects\n",
    "# For each training example we need to get rid of these gradients"
   ]
  },
  {
   "cell_type": "markdown",
   "id": "f579dc18-584e-414b-ae8e-37f62e4b42f3",
   "metadata": {},
   "source": []
  },
  {
   "cell_type": "code",
   "execution_count": null,
   "id": "b600c877-3409-48f9-80e5-3fdde7731817",
   "metadata": {},
   "outputs": [],
   "source": []
  },
  {
   "cell_type": "code",
   "execution_count": 10,
   "id": "5277794b-fe37-4595-8554-d26db5710e44",
   "metadata": {},
   "outputs": [],
   "source": [
    "model = BasicLSTMNetwork(seq_len, pred_len)\n",
    "model = model.to(device)\n",
    "loss = torch.nn.MSELoss()\n",
    "optimizer = torch.optim.Adam(model.parameters(), lr = learning_rate, weight_decay = weight_decay)"
   ]
  },
  {
   "cell_type": "code",
   "execution_count": 11,
   "id": "1afde643-9953-4129-8415-7b4836c31300",
   "metadata": {},
   "outputs": [
    {
     "name": "stdout",
     "output_type": "stream",
     "text": [
      "torch.Size([512, 7])\n",
      "torch.Size([512, 128])\n",
      "torch.Size([512])\n",
      "torch.Size([512])\n",
      "torch.Size([1, 1664])\n",
      "torch.Size([1])\n"
     ]
    }
   ],
   "source": [
    "for gen in model.parameters():\n",
    "    print(gen.shape)"
   ]
  },
  {
   "cell_type": "code",
   "execution_count": 12,
   "id": "4b3cc7a8-9844-4eae-a601-4787513eb1cf",
   "metadata": {},
   "outputs": [
    {
     "name": "stdout",
     "output_type": "stream",
     "text": [
      "features shape:  torch.Size([512, 13, 7])\n",
      "labels shape:  torch.Size([512, 1])\n"
     ]
    }
   ],
   "source": [
    "for i, (f,l) in enumerate(train_loader):\n",
    "    print('features shape: ', f.shape)\n",
    "    print('labels shape: ', l.shape)\n",
    "    break"
   ]
  },
  {
   "cell_type": "code",
   "execution_count": 13,
   "id": "22683e91-642a-494b-abc5-069dc6fa9eb6",
   "metadata": {},
   "outputs": [],
   "source": [
    "# define metrics\n",
    "import numpy as np\n",
    "import matplotlib.pyplot as plt\n",
    "epsilon = np.finfo(float).eps\n",
    "\n",
    "def wape_function(y, y_pred):\n",
    "    \"\"\"Weighted Average Percentage Error metric in the interval [0; 100]\"\"\"\n",
    "    y = np.array(y)\n",
    "    y_pred = np.array(y_pred)\n",
    "    nominator = np.sum(np.abs(np.subtract(y, y_pred)))\n",
    "    denominator = np.add(np.sum(np.abs(y)), epsilon)\n",
    "    wape = np.divide(nominator, denominator) * 100.0\n",
    "    return wape\n",
    "\n",
    "def nse_function(y, y_pred):\n",
    "    y = np.array(y)\n",
    "    y_pred = np.array(y_pred)\n",
    "    return (1-(np.sum((y_pred-y)**2)/np.sum((y-np.mean(y))**2)))\n",
    "\n",
    "\n",
    "def evaluate_model(model, data_loader, plot=False):\n",
    "    # following line prepares the model for evaluation mode. It disables dropout and batch normalization if they have \n",
    "    # are part of the model. For our simple model, it's not necessary. Still, I'm going to use it.\n",
    "\n",
    "    model.eval()\n",
    "    all_inputs = torch.empty((0, seq_len, num_features))\n",
    "    all_labels = torch.empty(0, pred_len)\n",
    "    for inputs, labels in data_loader:\n",
    "        all_inputs = torch.vstack((all_inputs, inputs))\n",
    "        all_labels = torch.vstack((all_labels, labels))\n",
    "    \n",
    "    with torch.no_grad():\n",
    "        all_inputs = all_inputs.to(device)\n",
    "        outputs = model(all_inputs).detach().cpu()\n",
    "        avg_val_loss = loss(outputs, all_labels)\n",
    "        nse = nse_function(all_labels.numpy(), outputs.numpy())\n",
    "        wape = wape_function(all_labels.numpy(), outputs.numpy())\n",
    "        \n",
    "    print(f'NSE : {nse}', end=' ')\n",
    "    print(f'WAPE : {wape}', end=' ')\n",
    "    print(f'Validation Loss: {avg_val_loss}')\n",
    "    model.train()\n",
    "\n",
    "    if plot:\n",
    "        plt.plot(np.array(all_labels.cpu()[:100]), color='green', label='observations')\n",
    "        plt.plot(np.array(outputs.cpu()[:100]), color='red', linestyle='-', label='predictions')\n",
    "        metrics_text = f\"NSE: {nse:.3f}\\nWAPE: {wape:.3f}\" \n",
    "        plt.text(0.28, 0.97, metrics_text, transform=plt.gca().transAxes, \n",
    "        fontsize=12, verticalalignment='top', bbox=dict(boxstyle='round', facecolor='wheat', alpha=0.5))\n",
    "        plt.legend()\n",
    "        plt.show()\n",
    "    \n",
    "    return avg_val_loss\n"
   ]
  },
  {
   "cell_type": "code",
   "execution_count": 14,
   "id": "9beaf3a1-2c40-4fc6-b0f7-c352b5763231",
   "metadata": {},
   "outputs": [
    {
     "name": "stdout",
     "output_type": "stream",
     "text": [
      "Epoch 1: Traning Loss: 0.010294056857692616 NSE : 0.37985968589782715 WAPE : 46.75522223231724 Validation Loss: 0.010587356984615326\n",
      "Epoch 2: Traning Loss: 0.006346115971138927 NSE : 0.8287148475646973 WAPE : 21.759571304714676 Validation Loss: 0.002924269298091531\n",
      "Epoch 3: Traning Loss: 0.0018032588547986204 NSE : 0.9086541831493378 WAPE : 15.263833307626266 Validation Loss: 0.0015595033764839172\n",
      "Epoch 4: Traning Loss: 0.0011198646503812067 NSE : 0.9362273141741753 WAPE : 12.36241106411061 Validation Loss: 0.0010887605603784323\n",
      "Epoch 5: Traning Loss: 0.0009349160148483833 NSE : 0.9455853551626205 WAPE : 11.503226060909551 Validation Loss: 0.0009289951412938535\n",
      "Epoch 6: Traning Loss: 0.0008195572241158036 NSE : 0.9524189084768295 WAPE : 10.779609523729032 Validation Loss: 0.0008123291190713644\n",
      "Epoch 7: Traning Loss: 0.0007343628204778973 NSE : 0.956009816378355 WAPE : 10.450030830873553 Validation Loss: 0.0007510232971981168\n",
      "Epoch 8: Traning Loss: 0.0006622869308936282 NSE : 0.9594733268022537 WAPE : 10.033825042627953 Validation Loss: 0.0006918925209902227\n",
      "Epoch 9: Traning Loss: 0.0006076040879052385 NSE : 0.963032104074955 WAPE : 9.49172945529893 Validation Loss: 0.0006311351316981018\n",
      "Epoch 10: Traning Loss: 0.0005743917372363718 NSE : 0.9659004434943199 WAPE : 8.9843208016661 Validation Loss: 0.0005821653758175671\n",
      "Epoch 11: Traning Loss: 0.0005469892106896803 NSE : 0.9678344950079918 WAPE : 8.624458170727326 Validation Loss: 0.0005491462652571499\n",
      "Epoch 12: Traning Loss: 0.0005262510402907846 NSE : 0.9681084640324116 WAPE : 8.654558329688564 Validation Loss: 0.0005444689304567873\n",
      "Epoch 13: Traning Loss: 0.0005220468132402087 NSE : 0.9700113367289305 WAPE : 8.262520046230463 Validation Loss: 0.000511982012540102\n",
      "Epoch 14: Traning Loss: 0.0005066533290465223 NSE : 0.9711309522390366 WAPE : 7.984945342548437 Validation Loss: 0.0004928674316033721\n",
      "Epoch 15: Traning Loss: 0.0004775221427619814 NSE : 0.9719951022416353 WAPE : 7.80992489134362 Validation Loss: 0.0004781141469720751\n",
      "Epoch 16: Traning Loss: 0.0004547432196198911 NSE : 0.9724005423486233 WAPE : 7.759235968342979 Validation Loss: 0.00047119238297455013\n",
      "Epoch 17: Traning Loss: 0.00043845242299507363 NSE : 0.9710436426103115 WAPE : 8.111265977118597 Validation Loss: 0.0004943580133840442\n",
      "Epoch 18: Traning Loss: 0.00043325450118351314 NSE : 0.9730818830430508 WAPE : 7.647193430893416 Validation Loss: 0.0004595601058099419\n",
      "Epoch 19: Traning Loss: 0.0004133919411671122 NSE : 0.9733217433094978 WAPE : 7.552656680175203 Validation Loss: 0.0004554651095531881\n",
      "Epoch 20: Traning Loss: 0.0003983359912879142 NSE : 0.973580265417695 WAPE : 7.4711919073094695 Validation Loss: 0.00045105148456059396\n",
      "Epoch 21: Traning Loss: 0.0003852773314776392 NSE : 0.97379338927567 WAPE : 7.386923677477017 Validation Loss: 0.0004474128654692322\n",
      "Epoch 22: Traning Loss: 0.00037187546002841084 NSE : 0.9741624314337969 WAPE : 7.23446513980771 Validation Loss: 0.0004411124100442976\n",
      "Epoch 23: Traning Loss: 0.00035941181365072727 NSE : 0.9740543272346258 WAPE : 7.165923230596623 Validation Loss: 0.0004429580003488809\n",
      "Epoch 24: Traning Loss: 0.00034907227081976784 NSE : 0.9735541623085737 WAPE : 7.181022281160663 Validation Loss: 0.00045149712241254747\n",
      "Epoch 25: Traning Loss: 0.00034359798451424206 NSE : 0.9721063897013664 WAPE : 7.381376739364845 Validation Loss: 0.00047621424891985953\n",
      "Epoch 26: Traning Loss: 0.00034267512039270494 NSE : 0.9699418768286705 WAPE : 7.676007136000249 Validation Loss: 0.000513167935423553\n",
      "Epoch 27: Traning Loss: 0.000346457728413823 NSE : 0.9676881544291973 WAPE : 7.992779615422268 Validation Loss: 0.0005516446544788778\n",
      "Early stopping!\n"
     ]
    }
   ],
   "source": [
    "num_epochs = 200\n",
    "best_val_loss = float('inf')\n",
    "patience = 5\n",
    "\n",
    "for epoch in range(num_epochs):\n",
    "    epoch_loss = []\n",
    "    for batch_idx, (inputs, labels) in enumerate(train_loader):\n",
    "        inputs = inputs.to(device)\n",
    "        labels = labels.to(device)\n",
    "        outputs = model(inputs)\n",
    "        loss_val = loss(outputs, labels)\n",
    "\n",
    "        # calculate gradients for back propagation\n",
    "        loss_val.backward()\n",
    "\n",
    "        # update the weights based on the gradients\n",
    "        optimizer.step()\n",
    "\n",
    "        # reset the gradients, avoid gradient accumulation\n",
    "        optimizer.zero_grad()\n",
    "        epoch_loss.append(loss_val.item())\n",
    "\n",
    "    avg_train_loss = sum(epoch_loss)/len(epoch_loss)\n",
    "    print(f'Epoch {epoch+1}: Traning Loss: {avg_train_loss}', end=' ')\n",
    "    avg_val_loss = evaluate_model(model, val_loader)\n",
    "\n",
    "    # Check for improvement\n",
    "    if avg_val_loss < best_val_loss:\n",
    "        best_val_loss = avg_val_loss\n",
    "        epochs_no_improve = 0\n",
    "        # Save the best model\n",
    "        torch.save(model.state_dict(), 'best_model.pth')\n",
    "    else:\n",
    "        epochs_no_improve += 1\n",
    "        if epochs_no_improve == patience:\n",
    "            print('Early stopping!')\n",
    "            # Load the best model before stopping\n",
    "            model.load_state_dict(torch.load('best_model.pth'))\n",
    "            break"
   ]
  },
  {
   "cell_type": "code",
   "execution_count": 17,
   "id": "f7216e93-a35d-4aa5-83db-2e43ea380f6e",
   "metadata": {},
   "outputs": [
    {
     "name": "stdout",
     "output_type": "stream",
     "text": [
      "NSE : 0.9588164836168289 WAPE : 8.29375799889384 Validation Loss: 0.00044969632290303707\n"
     ]
    },
    {
     "data": {
      "image/png": "[encoded data removed]",
      "text/plain": [
       "<Figure size 640x480 with 1 Axes>"
      ]
     },
     "metadata": {},
     "output_type": "display_data"
    },
    {
     "data": {
      "text/plain": [
       "tensor(0.0004)"
      ]
     },
     "execution_count": 17,
     "metadata": {},
     "output_type": "execute_result"
    }
   ],
   "source": [
    "evaluate_model(model, test_loader, plot=True)"
   ]
  },
  {
   "cell_type": "code",
   "execution_count": null,
   "id": "722fee71-de14-463f-abf6-e35f9f002ae1",
   "metadata": {},
   "outputs": [],
   "source": []
  },
  {
   "cell_type": "code",
   "execution_count": null,
   "id": "9a2f592f-d2be-4ea2-9e9e-d034d45f551d",
   "metadata": {},
   "outputs": [],
   "source": []
  }
 ],
 "metadata": {
  "kernelspec": {
   "display_name": "Python 3 (ipykernel)",
   "language": "python",
   "name": "python3"
  },
  "language_info": {
   "codemirror_mode": {
    "name": "ipython",
    "version": 3
   },
   "file_extension": ".py",
   "mimetype": "text/x-python",
   "name": "python",
   "nbconvert_exporter": "python",
   "pygments_lexer": "ipython3",
   "version": "3.10.13"
  }
 },
 "nbformat": 4,
 "nbformat_minor": 5
}
